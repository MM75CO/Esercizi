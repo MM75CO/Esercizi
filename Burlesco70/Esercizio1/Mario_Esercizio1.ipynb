{
 "cells": [
  {
   "cell_type": "markdown",
   "metadata": {},
   "source": [
    "# Esercizio 1\n",
    "\n",
    "### Svolgimento di Mario"
   ]
  },
  {
   "cell_type": "code",
   "execution_count": 35,
   "metadata": {
    "collapsed": true
   },
   "outputs": [],
   "source": [
    "mail_test = '''Buongiorno, purtroppo si tratta della stampante principale della succursale, alla quale fano riferimento 5 colleghi per le stampe quotidiane\n",
    "Stiamo sollecitando la sistemazione da oltre un mese con esito vano, Vi chiedo cortesemente d'intervenire per la sistemazione dell'Anomalia'''\n",
    "\n",
    "mail_1 = '''Purtroppo l'Atm è quasi sempre in queste condizioni..se ne richiede pertanto, ASSISTENZA RISOLUTIVA, per via anche, delle continue lamentele e dei continui rimborsi ai clienti.\n",
    "Cordiali Saluti'''\n",
    "\n",
    "mail_2 = '''con la presente segnaliamo numerosi disservizi alla Clientela, nelle ultime settimane, derivanti dai ritardi nella generazione/spedizione dei Flussi Remote Attivi e Passivi.\n",
    "Abbiamo difficoltà a tranquillizzare i Clienti in quanto il problema e’ diffuso e si protrae da molto tempo. Sapete dirci se e’ stata analizzata la questione e se e’ gia’ stata individuata una data potenziale di risoluzione dell’anomalia?'''\n",
    "\n",
    "mail_3 = '''Ciao, mi prendo un momento per ringraziare te e Centrico per il grande lavoro che state facendo per il Gruppo e per la Banca in queste settimane. Avete consentito in modo eccellente di continuare a lavorare, funzionare, servire i clienti.  Un grazie sincero. Siete stati bravissimi. Davvero! Non ci sono tante aziende in Italia che hanno avuto la stessa continuità'''"
   ]
  },
  {
   "cell_type": "code",
   "execution_count": 36,
   "metadata": {
    "collapsed": true
   },
   "outputs": [],
   "source": [
    "import re\n",
    "\n",
    "class SentimentAnalyzer():\n",
    "    \n",
    "    WORDICT = {\n",
    "\"purtroppo\" : 2,\n",
    "\"anomalia\" : 1,\n",
    "\"errore\" : 1, \n",
    "\"lamentele\" : 2, \n",
    "\"rimborsi\" : 1,\n",
    "\"disservizi\" : 1, \n",
    "\"ritardi\" : 2, \n",
    "\"problema\" : 1, \n",
    "\"grande\": 4,\n",
    "\"ringraziare\": 4,\n",
    "\"eccellente\": 5,\n",
    "\"bravissimi\": 5\n",
    "    }\n",
    "    \n",
    "    def __init__(self, mail):\n",
    "        self.mail = mail\n",
    "        self.dictionary = SentimentAnalyzer.WORDICT\n",
    "        \n",
    "    def calcola_punteggio_sentiment(self):\n",
    "        #Rimozione punteggiatura \n",
    "        self.mail = self.mail.replace(',',' ')\n",
    "        self.mail = self.mail.replace('.',' ')\n",
    "        self.mail = self.mail.replace('\\n',' ')\n",
    "        self.mail = self.mail.replace(\"'\",' ')\n",
    "        self.mail = self.mail.replace(\"/\",' ')\n",
    "        self.mail = self.mail.replace(\"?\",' ')\n",
    "        self.mail = self.mail.replace(\"!\",' ')\n",
    "        self.mail = self.mail.replace('’',' ')        \n",
    "        #Creazione lista parole\n",
    "        lista_parole = self.mail.split(\" \")\n",
    "        print(lista_parole)\n",
    "        punteggio = 0\n",
    "        occorrenze = 0\n",
    "        for parola in lista_parole:\n",
    "            valore_parola = self.dictionary.get(parola.lower(), 0)\n",
    "            if valore_parola:\n",
    "                print(f\"Trovata >{parola}<\")\n",
    "                punteggio += valore_parola\n",
    "                occorrenze += 1 \n",
    "        return punteggio/occorrenze\n",
    "    \n",
    "    # Variante con utilizzo di re\n",
    "    def calcola_punteggio_sentiment_re(self):\n",
    "        #Rimozione punteggiatura con re\n",
    "        self.mail = re.sub('[,.\\n\\'\\\"/\\\\\\?\\!’]+', ' ', self.mail)\n",
    "        #Creazione lista parole\n",
    "        lista_parole = self.mail.split(\" \")\n",
    "        print(lista_parole)\n",
    "        punteggio = 0\n",
    "        occorrenze = 0\n",
    "        for parola in lista_parole:\n",
    "            valore_parola = self.dictionary.get(parola.lower(), 0)\n",
    "            if valore_parola:\n",
    "                print(f\"Trovata >{parola}<\")\n",
    "                punteggio += valore_parola\n",
    "                occorrenze += 1 \n",
    "        return punteggio/occorrenze    "
   ]
  },
  {
   "cell_type": "code",
   "execution_count": 37,
   "metadata": {},
   "outputs": [
    {
     "name": "stdout",
     "output_type": "stream",
     "text": [
      "['Buongiorno', '', 'purtroppo', 'si', 'tratta', 'della', 'stampante', 'principale', 'della', 'succursale', '', 'alla', 'quale', 'fano', 'riferimento', '5', 'colleghi', 'per', 'le', 'stampe', 'quotidiane', 'Stiamo', 'sollecitando', 'la', 'sistemazione', 'da', 'oltre', 'un', 'mese', 'con', 'esito', 'vano', '', 'Vi', 'chiedo', 'cortesemente', 'd', 'intervenire', 'per', 'la', 'sistemazione', 'dell', 'Anomalia']\n",
      "Trovata >purtroppo<\n",
      "Trovata >Anomalia<\n",
      "['Buongiorno', '', 'purtroppo', 'si', 'tratta', 'della', 'stampante', 'principale', 'della', 'succursale', '', 'alla', 'quale', 'fano', 'riferimento', '5', 'colleghi', 'per', 'le', 'stampe', 'quotidiane', 'Stiamo', 'sollecitando', 'la', 'sistemazione', 'da', 'oltre', 'un', 'mese', 'con', 'esito', 'vano', '', 'Vi', 'chiedo', 'cortesemente', 'd', 'intervenire', 'per', 'la', 'sistemazione', 'dell', 'Anomalia']\n",
      "Trovata >purtroppo<\n",
      "Trovata >Anomalia<\n",
      "['Buongiorno', '', 'purtroppo', 'si', 'tratta', 'della', 'stampante', 'principale', 'della', 'succursale', '', 'alla', 'quale', 'fano', 'riferimento', '5', 'colleghi', 'per', 'le', 'stampe', 'quotidiane', 'Stiamo', 'sollecitando', 'la', 'sistemazione', 'da', 'oltre', 'un', 'mese', 'con', 'esito', 'vano', '', 'Vi', 'chiedo', 'cortesemente', 'd', 'intervenire', 'per', 'la', 'sistemazione', 'dell', 'Anomalia']\n",
      "Trovata >purtroppo<\n",
      "Trovata >Anomalia<\n",
      "1.5 True\n"
     ]
    }
   ],
   "source": [
    "sa = SentimentAnalyzer(mail_test)\n",
    "print(sa.calcola_punteggio_sentiment_re(), sa.calcola_punteggio_sentiment_re() == sa.calcola_punteggio_sentiment())"
   ]
  },
  {
   "cell_type": "code",
   "execution_count": 38,
   "metadata": {},
   "outputs": [
    {
     "name": "stdout",
     "output_type": "stream",
     "text": [
      "['Purtroppo', 'l', 'Atm', 'è', 'quasi', 'sempre', 'in', 'queste', 'condizioni', 'se', 'ne', 'richiede', 'pertanto', '', 'ASSISTENZA', 'RISOLUTIVA', '', 'per', 'via', 'anche', '', 'delle', 'continue', 'lamentele', 'e', 'dei', 'continui', 'rimborsi', 'ai', 'clienti', 'Cordiali', 'Saluti']\n",
      "Trovata >Purtroppo<\n",
      "Trovata >lamentele<\n",
      "Trovata >rimborsi<\n",
      "['Purtroppo', 'l', 'Atm', 'è', 'quasi', 'sempre', 'in', 'queste', 'condizioni', 'se', 'ne', 'richiede', 'pertanto', '', 'ASSISTENZA', 'RISOLUTIVA', '', 'per', 'via', 'anche', '', 'delle', 'continue', 'lamentele', 'e', 'dei', 'continui', 'rimborsi', 'ai', 'clienti', 'Cordiali', 'Saluti']\n",
      "Trovata >Purtroppo<\n",
      "Trovata >lamentele<\n",
      "Trovata >rimborsi<\n",
      "['Purtroppo', 'l', 'Atm', 'è', 'quasi', 'sempre', 'in', 'queste', 'condizioni', 'se', 'ne', 'richiede', 'pertanto', '', 'ASSISTENZA', 'RISOLUTIVA', '', 'per', 'via', 'anche', '', 'delle', 'continue', 'lamentele', 'e', 'dei', 'continui', 'rimborsi', 'ai', 'clienti', 'Cordiali', 'Saluti']\n",
      "Trovata >Purtroppo<\n",
      "Trovata >lamentele<\n",
      "Trovata >rimborsi<\n",
      "1.6666666666666667 True\n"
     ]
    }
   ],
   "source": [
    "sa = SentimentAnalyzer(mail_1)\n",
    "print(sa.calcola_punteggio_sentiment_re(), sa.calcola_punteggio_sentiment_re() == sa.calcola_punteggio_sentiment())"
   ]
  },
  {
   "cell_type": "code",
   "execution_count": 39,
   "metadata": {},
   "outputs": [
    {
     "name": "stdout",
     "output_type": "stream",
     "text": [
      "['con', 'la', 'presente', 'segnaliamo', 'numerosi', 'disservizi', 'alla', 'Clientela', '', 'nelle', 'ultime', 'settimane', '', 'derivanti', 'dai', 'ritardi', 'nella', 'generazione', 'spedizione', 'dei', 'Flussi', 'Remote', 'Attivi', 'e', 'Passivi', 'Abbiamo', 'difficoltà', 'a', 'tranquillizzare', 'i', 'Clienti', 'in', 'quanto', 'il', 'problema', 'e', '', 'diffuso', 'e', 'si', 'protrae', 'da', 'molto', 'tempo', '', 'Sapete', 'dirci', 'se', 'e', '', 'stata', 'analizzata', 'la', 'questione', 'e', 'se', 'e', '', 'gia', '', 'stata', 'individuata', 'una', 'data', 'potenziale', 'di', 'risoluzione', 'dell', 'anomalia', '']\n",
      "Trovata >disservizi<\n",
      "Trovata >ritardi<\n",
      "Trovata >problema<\n",
      "Trovata >anomalia<\n",
      "['con', 'la', 'presente', 'segnaliamo', 'numerosi', 'disservizi', 'alla', 'Clientela', '', 'nelle', 'ultime', 'settimane', '', 'derivanti', 'dai', 'ritardi', 'nella', 'generazione', 'spedizione', 'dei', 'Flussi', 'Remote', 'Attivi', 'e', 'Passivi', 'Abbiamo', 'difficoltà', 'a', 'tranquillizzare', 'i', 'Clienti', 'in', 'quanto', 'il', 'problema', 'e', '', 'diffuso', 'e', 'si', 'protrae', 'da', 'molto', 'tempo', '', 'Sapete', 'dirci', 'se', 'e', '', 'stata', 'analizzata', 'la', 'questione', 'e', 'se', 'e', '', 'gia', '', 'stata', 'individuata', 'una', 'data', 'potenziale', 'di', 'risoluzione', 'dell', 'anomalia', '']\n",
      "Trovata >disservizi<\n",
      "Trovata >ritardi<\n",
      "Trovata >problema<\n",
      "Trovata >anomalia<\n",
      "['con', 'la', 'presente', 'segnaliamo', 'numerosi', 'disservizi', 'alla', 'Clientela', '', 'nelle', 'ultime', 'settimane', '', 'derivanti', 'dai', 'ritardi', 'nella', 'generazione', 'spedizione', 'dei', 'Flussi', 'Remote', 'Attivi', 'e', 'Passivi', 'Abbiamo', 'difficoltà', 'a', 'tranquillizzare', 'i', 'Clienti', 'in', 'quanto', 'il', 'problema', 'e', '', 'diffuso', 'e', 'si', 'protrae', 'da', 'molto', 'tempo', '', 'Sapete', 'dirci', 'se', 'e', '', 'stata', 'analizzata', 'la', 'questione', 'e', 'se', 'e', '', 'gia', '', 'stata', 'individuata', 'una', 'data', 'potenziale', 'di', 'risoluzione', 'dell', 'anomalia', '']\n",
      "Trovata >disservizi<\n",
      "Trovata >ritardi<\n",
      "Trovata >problema<\n",
      "Trovata >anomalia<\n",
      "1.25 True\n"
     ]
    }
   ],
   "source": [
    "sa = SentimentAnalyzer(mail_2)\n",
    "print(sa.calcola_punteggio_sentiment_re(), sa.calcola_punteggio_sentiment_re() == sa.calcola_punteggio_sentiment())"
   ]
  },
  {
   "cell_type": "code",
   "execution_count": 40,
   "metadata": {},
   "outputs": [
    {
     "name": "stdout",
     "output_type": "stream",
     "text": [
      "['Ciao', '', 'mi', 'prendo', 'un', 'momento', 'per', 'ringraziare', 'te', 'e', 'Centrico', 'per', 'il', 'grande', 'lavoro', 'che', 'state', 'facendo', 'per', 'il', 'Gruppo', 'e', 'per', 'la', 'Banca', 'in', 'queste', 'settimane', '', 'Avete', 'consentito', 'in', 'modo', 'eccellente', 'di', 'continuare', 'a', 'lavorare', '', 'funzionare', '', 'servire', 'i', 'clienti', '', '', 'Un', 'grazie', 'sincero', '', 'Siete', 'stati', 'bravissimi', '', 'Davvero', '', 'Non', 'ci', 'sono', 'tante', 'aziende', 'in', 'Italia', 'che', 'hanno', 'avuto', 'la', 'stessa', 'continuità']\n",
      "Trovata >ringraziare<\n",
      "Trovata >grande<\n",
      "Trovata >eccellente<\n",
      "Trovata >bravissimi<\n",
      "['Ciao', '', 'mi', 'prendo', 'un', 'momento', 'per', 'ringraziare', 'te', 'e', 'Centrico', 'per', 'il', 'grande', 'lavoro', 'che', 'state', 'facendo', 'per', 'il', 'Gruppo', 'e', 'per', 'la', 'Banca', 'in', 'queste', 'settimane', '', 'Avete', 'consentito', 'in', 'modo', 'eccellente', 'di', 'continuare', 'a', 'lavorare', '', 'funzionare', '', 'servire', 'i', 'clienti', '', '', 'Un', 'grazie', 'sincero', '', 'Siete', 'stati', 'bravissimi', '', 'Davvero', '', 'Non', 'ci', 'sono', 'tante', 'aziende', 'in', 'Italia', 'che', 'hanno', 'avuto', 'la', 'stessa', 'continuità']\n",
      "Trovata >ringraziare<\n",
      "Trovata >grande<\n",
      "Trovata >eccellente<\n",
      "Trovata >bravissimi<\n",
      "['Ciao', '', 'mi', 'prendo', 'un', 'momento', 'per', 'ringraziare', 'te', 'e', 'Centrico', 'per', 'il', 'grande', 'lavoro', 'che', 'state', 'facendo', 'per', 'il', 'Gruppo', 'e', 'per', 'la', 'Banca', 'in', 'queste', 'settimane', '', 'Avete', 'consentito', 'in', 'modo', 'eccellente', 'di', 'continuare', 'a', 'lavorare', '', 'funzionare', '', 'servire', 'i', 'clienti', '', '', 'Un', 'grazie', 'sincero', '', 'Siete', 'stati', 'bravissimi', '', 'Davvero', '', 'Non', 'ci', 'sono', 'tante', 'aziende', 'in', 'Italia', 'che', 'hanno', 'avuto', 'la', 'stessa', 'continuità']\n",
      "Trovata >ringraziare<\n",
      "Trovata >grande<\n",
      "Trovata >eccellente<\n",
      "Trovata >bravissimi<\n",
      "4.5 True\n"
     ]
    }
   ],
   "source": [
    "sa = SentimentAnalyzer(mail_3)\n",
    "print(sa.calcola_punteggio_sentiment_re(), sa.calcola_punteggio_sentiment_re() == sa.calcola_punteggio_sentiment())"
   ]
  }
 ],
 "metadata": {
  "kernelspec": {
   "display_name": "Python [default]",
   "language": "python",
   "name": "python3"
  },
  "language_info": {
   "codemirror_mode": {
    "name": "ipython",
    "version": 3
   },
   "file_extension": ".py",
   "mimetype": "text/x-python",
   "name": "python",
   "nbconvert_exporter": "python",
   "pygments_lexer": "ipython3",
   "version": "3.5.6"
  },
  "toc": {
   "base_numbering": 1,
   "nav_menu": {},
   "number_sections": true,
   "sideBar": true,
   "skip_h1_title": false,
   "title_cell": "Table of Contents",
   "title_sidebar": "Contents",
   "toc_cell": false,
   "toc_position": {},
   "toc_section_display": true,
   "toc_window_display": false
  }
 },
 "nbformat": 4,
 "nbformat_minor": 1
}
