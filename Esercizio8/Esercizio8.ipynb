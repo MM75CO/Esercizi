{
 "cells": [
  {
   "cell_type": "code",
   "execution_count": 121,
   "metadata": {
    "collapsed": true
   },
   "outputs": [],
   "source": [
    "class Carta:\n",
    "    SEMI = [\"Fiori\", \"Quadri\", \"Cuori\", \"Picche\"]\n",
    "    # VALORI[0] è un valore arbitrario che non sarà mai usato\n",
    "    VALORI = [\"dummy\", \"Asso\", \"2\", \"3\", \"4\", \"5\", \"6\", \"7\", \n",
    "             \"8\", \"9\", \"10\", \"Fante\", \"Donna\", \"Re\"]\n",
    "\n",
    "    def __init__(self, seme=0, valore=0): \n",
    "        self.seme = seme \n",
    "        self.valore = valore\n",
    "\n",
    "    def __str__(self):\n",
    "        return (self.VALORI[self.valore] + \" di \" + self.SEMI[self.seme])\n",
    "    \n",
    "    # Metodo privato utile per fare confronti tra carte\n",
    "    # Arbitrariamente si da più importanza al seme\n",
    "    def __cmp(self, other):\n",
    "        # Controlla il seme\n",
    "        if self.seme > other.seme: \n",
    "            return 1 \n",
    "        if self.seme < other.seme: \n",
    "            return -1 \n",
    "        # Se seme uguale, controlla il valore\n",
    "        if self.valore > other.valore: \n",
    "            return 1 \n",
    "        if self.valore < other.valore: \n",
    "            return -1 \n",
    "        # Se ancora uguale, è un pareggio\n",
    "        return 0\n",
    "\n",
    "    def __eq__(self, other): \n",
    "        return self.__cmp(other) == 0 \n",
    "    \n",
    "    def __le__(self, other): \n",
    "        return self.__cmp(other) <= 0 \n",
    "    \n",
    "    def __ge__(self, other): \n",
    "        return self.__cmp(other) >= 0\n",
    "    \n",
    "    def __gt__(self, other): \n",
    "        return self.__cmp(other) > 0\n",
    "    \n",
    "    def __lt__(self, other): \n",
    "        return self.__cmp(other) < 0 \n",
    "    \n",
    "    def __ne__(self, other): \n",
    "        return self.__cmp(other) != 0"
   ]
  },
  {
   "cell_type": "code",
   "execution_count": 122,
   "metadata": {},
   "outputs": [
    {
     "name": "stdout",
     "output_type": "stream",
     "text": [
      "3 di Fiori\n"
     ]
    }
   ],
   "source": [
    "tre_di_fiori = Carta(0, 3)\n",
    "print(tre_di_fiori)"
   ]
  },
  {
   "cell_type": "code",
   "execution_count": 123,
   "metadata": {},
   "outputs": [
    {
     "name": "stdout",
     "output_type": "stream",
     "text": [
      "Fante di Quadri\n"
     ]
    }
   ],
   "source": [
    "carta1 = Carta(1, 11)\n",
    "print(carta1)"
   ]
  },
  {
   "cell_type": "code",
   "execution_count": 124,
   "metadata": {},
   "outputs": [
    {
     "name": "stdout",
     "output_type": "stream",
     "text": [
      "3 di Quadri\n"
     ]
    }
   ],
   "source": [
    "carta2 = Carta(1, 3)\n",
    "print(carta2)"
   ]
  },
  {
   "cell_type": "code",
   "execution_count": 107,
   "metadata": {},
   "outputs": [
    {
     "data": {
      "text/plain": [
       "'Quadri'"
      ]
     },
     "execution_count": 107,
     "metadata": {},
     "output_type": "execute_result"
    }
   ],
   "source": [
    "carta2.SEMI[1]"
   ]
  },
  {
   "cell_type": "code",
   "execution_count": 108,
   "metadata": {},
   "outputs": [
    {
     "data": {
      "text/plain": [
       "False"
      ]
     },
     "execution_count": 108,
     "metadata": {},
     "output_type": "execute_result"
    }
   ],
   "source": [
    "carta1 < carta2"
   ]
  },
  {
   "cell_type": "code",
   "execution_count": 125,
   "metadata": {},
   "outputs": [
    {
     "data": {
      "text/plain": [
       "True"
      ]
     },
     "execution_count": 125,
     "metadata": {},
     "output_type": "execute_result"
    }
   ],
   "source": [
    "carta3 = Carta(1, 3)\n",
    "carta3 == carta2"
   ]
  },
  {
   "cell_type": "code",
   "execution_count": 126,
   "metadata": {},
   "outputs": [],
   "source": [
    "class Mazzo:\n",
    "    def __init__(self): \n",
    "        self.carte = []\n",
    "        for seme in range(4): \n",
    "            for valore in range(1, 14): \n",
    "                self.carte.append(Carta(seme, valore))\n",
    "\n",
    "    def __str__(self): \n",
    "        s = \"\" \n",
    "        for i in range(len(self.carte)): \n",
    "            s = s + \" \" * i + str(self.carte[i]) + \"\\n\" \n",
    "        return s\n",
    "                \n",
    "    \n",
    "    def visualizza_mazzo(self):\n",
    "        for carta in self.carte: \n",
    "            print(carta)\n",
    "            \n",
    "    def mischia(self): \n",
    "        import random \n",
    "        rng = random.Random() \n",
    "        # Create a random generator \n",
    "        num_carte = len(self.carte)\n",
    "        # Metodo 2 più sintetico, equivalente a 1\n",
    "        #rng.shuffle(self.carte)\n",
    "        # Metodo 1\n",
    "        for i in range(num_carte): \n",
    "            j = rng.randrange(i, num_carte)\n",
    "            # Scambio posizione tra carte usando tupla\n",
    "            (self.carte[i], self.carte[j]) = (self.carte[j], self.carte[i])\n",
    "    \n",
    "    def rimuovi(self, carta): \n",
    "        if carta in self.carte: \n",
    "            self.carte.remove(carta) \n",
    "            return True \n",
    "        else: \n",
    "            return False\n",
    "    \n",
    "    def pesca(self):\n",
    "        # Anche se pesca dal fondo\n",
    "        return self.carte.pop()\n",
    "    \n",
    "    def mazzo_vuoto(self): \n",
    "        return self.carte == []"
   ]
  },
  {
   "cell_type": "code",
   "execution_count": 127,
   "metadata": {
    "collapsed": true
   },
   "outputs": [],
   "source": [
    "mazzo_rosso = Mazzo()\n",
    "mazzo_blu = Mazzo()"
   ]
  },
  {
   "cell_type": "code",
   "execution_count": 128,
   "metadata": {},
   "outputs": [
    {
     "name": "stdout",
     "output_type": "stream",
     "text": [
      "Asso di Fiori\n",
      "2 di Fiori\n",
      "3 di Fiori\n",
      "4 di Fiori\n",
      "5 di Fiori\n",
      "6 di Fiori\n",
      "7 di Fiori\n",
      "8 di Fiori\n",
      "9 di Fiori\n",
      "10 di Fiori\n",
      "Fante di Fiori\n",
      "Donna di Fiori\n",
      "Re di Fiori\n",
      "Asso di Quadri\n",
      "2 di Quadri\n",
      "3 di Quadri\n",
      "4 di Quadri\n",
      "5 di Quadri\n",
      "6 di Quadri\n",
      "7 di Quadri\n",
      "8 di Quadri\n",
      "9 di Quadri\n",
      "10 di Quadri\n",
      "Fante di Quadri\n",
      "Donna di Quadri\n",
      "Re di Quadri\n",
      "Asso di Cuori\n",
      "2 di Cuori\n",
      "3 di Cuori\n",
      "4 di Cuori\n",
      "5 di Cuori\n",
      "6 di Cuori\n",
      "7 di Cuori\n",
      "8 di Cuori\n",
      "9 di Cuori\n",
      "10 di Cuori\n",
      "Fante di Cuori\n",
      "Donna di Cuori\n",
      "Re di Cuori\n",
      "Asso di Picche\n",
      "2 di Picche\n",
      "3 di Picche\n",
      "4 di Picche\n",
      "5 di Picche\n",
      "6 di Picche\n",
      "7 di Picche\n",
      "8 di Picche\n",
      "9 di Picche\n",
      "10 di Picche\n",
      "Fante di Picche\n",
      "Donna di Picche\n",
      "Re di Picche\n"
     ]
    }
   ],
   "source": [
    "mazzo_blu.visualizza_mazzo()"
   ]
  },
  {
   "cell_type": "code",
   "execution_count": 129,
   "metadata": {},
   "outputs": [
    {
     "name": "stdout",
     "output_type": "stream",
     "text": [
      "Asso di Fiori\n",
      " 2 di Fiori\n",
      "  3 di Fiori\n",
      "   4 di Fiori\n",
      "    5 di Fiori\n",
      "     6 di Fiori\n",
      "      7 di Fiori\n",
      "       8 di Fiori\n",
      "        9 di Fiori\n",
      "         10 di Fiori\n",
      "          Fante di Fiori\n",
      "           Donna di Fiori\n",
      "            Re di Fiori\n",
      "             Asso di Quadri\n",
      "              2 di Quadri\n",
      "               3 di Quadri\n",
      "                4 di Quadri\n",
      "                 5 di Quadri\n",
      "                  6 di Quadri\n",
      "                   7 di Quadri\n",
      "                    8 di Quadri\n",
      "                     9 di Quadri\n",
      "                      10 di Quadri\n",
      "                       Fante di Quadri\n",
      "                        Donna di Quadri\n",
      "                         Re di Quadri\n",
      "                          Asso di Cuori\n",
      "                           2 di Cuori\n",
      "                            3 di Cuori\n",
      "                             4 di Cuori\n",
      "                              5 di Cuori\n",
      "                               6 di Cuori\n",
      "                                7 di Cuori\n",
      "                                 8 di Cuori\n",
      "                                  9 di Cuori\n",
      "                                   10 di Cuori\n",
      "                                    Fante di Cuori\n",
      "                                     Donna di Cuori\n",
      "                                      Re di Cuori\n",
      "                                       Asso di Picche\n",
      "                                        2 di Picche\n",
      "                                         3 di Picche\n",
      "                                          4 di Picche\n",
      "                                           5 di Picche\n",
      "                                            6 di Picche\n",
      "                                             7 di Picche\n",
      "                                              8 di Picche\n",
      "                                               9 di Picche\n",
      "                                                10 di Picche\n",
      "                                                 Fante di Picche\n",
      "                                                  Donna di Picche\n",
      "                                                   Re di Picche\n",
      "\n"
     ]
    }
   ],
   "source": [
    "print(mazzo_blu)"
   ]
  },
  {
   "cell_type": "code",
   "execution_count": 130,
   "metadata": {},
   "outputs": [],
   "source": [
    "mazzo_blu.mischia()"
   ]
  },
  {
   "cell_type": "code",
   "execution_count": 131,
   "metadata": {},
   "outputs": [
    {
     "name": "stdout",
     "output_type": "stream",
     "text": [
      "Asso di Picche\n",
      " 2 di Quadri\n",
      "  5 di Fiori\n",
      "   10 di Picche\n",
      "    9 di Cuori\n",
      "     9 di Fiori\n",
      "      Re di Fiori\n",
      "       5 di Quadri\n",
      "        Donna di Fiori\n",
      "         10 di Fiori\n",
      "          Donna di Picche\n",
      "           3 di Cuori\n",
      "            Asso di Cuori\n",
      "             Donna di Quadri\n",
      "              4 di Quadri\n",
      "               Asso di Quadri\n",
      "                5 di Cuori\n",
      "                 5 di Picche\n",
      "                  8 di Quadri\n",
      "                   7 di Quadri\n",
      "                    3 di Fiori\n",
      "                     Asso di Fiori\n",
      "                      Re di Quadri\n",
      "                       Re di Cuori\n",
      "                        Fante di Quadri\n",
      "                         6 di Quadri\n",
      "                          2 di Cuori\n",
      "                           3 di Quadri\n",
      "                            8 di Picche\n",
      "                             6 di Picche\n",
      "                              4 di Cuori\n",
      "                               9 di Picche\n",
      "                                2 di Picche\n",
      "                                 Fante di Fiori\n",
      "                                  Re di Picche\n",
      "                                   4 di Fiori\n",
      "                                    7 di Fiori\n",
      "                                     10 di Cuori\n",
      "                                      9 di Quadri\n",
      "                                       Fante di Cuori\n",
      "                                        6 di Fiori\n",
      "                                         4 di Picche\n",
      "                                          Fante di Picche\n",
      "                                           Donna di Cuori\n",
      "                                            10 di Quadri\n",
      "                                             6 di Cuori\n",
      "                                              7 di Cuori\n",
      "                                               3 di Picche\n",
      "                                                2 di Fiori\n",
      "                                                 8 di Fiori\n",
      "                                                  8 di Cuori\n",
      "                                                   7 di Picche\n",
      "\n"
     ]
    }
   ],
   "source": [
    "print(mazzo_blu)"
   ]
  },
  {
   "cell_type": "code",
   "execution_count": 132,
   "metadata": {},
   "outputs": [
    {
     "name": "stdout",
     "output_type": "stream",
     "text": [
      "Asso di Picche\n",
      " 2 di Quadri\n",
      "  5 di Fiori\n",
      "   10 di Picche\n",
      "    9 di Cuori\n",
      "     9 di Fiori\n",
      "      Re di Fiori\n",
      "       5 di Quadri\n",
      "        Donna di Fiori\n",
      "         10 di Fiori\n",
      "          Donna di Picche\n",
      "           3 di Cuori\n",
      "            Asso di Cuori\n",
      "             Donna di Quadri\n",
      "              4 di Quadri\n",
      "               Asso di Quadri\n",
      "                5 di Cuori\n",
      "                 5 di Picche\n",
      "                  8 di Quadri\n",
      "                   7 di Quadri\n",
      "                    3 di Fiori\n",
      "                     Asso di Fiori\n",
      "                      Re di Quadri\n",
      "                       Re di Cuori\n",
      "                        Fante di Quadri\n",
      "                         6 di Quadri\n",
      "                          2 di Cuori\n",
      "                           3 di Quadri\n",
      "                            8 di Picche\n",
      "                             6 di Picche\n",
      "                              4 di Cuori\n",
      "                               9 di Picche\n",
      "                                2 di Picche\n",
      "                                 Fante di Fiori\n",
      "                                  Re di Picche\n",
      "                                   4 di Fiori\n",
      "                                    7 di Fiori\n",
      "                                     10 di Cuori\n",
      "                                      9 di Quadri\n",
      "                                       Fante di Cuori\n",
      "                                        6 di Fiori\n",
      "                                         4 di Picche\n",
      "                                          Fante di Picche\n",
      "                                           Donna di Cuori\n",
      "                                            10 di Quadri\n",
      "                                             6 di Cuori\n",
      "                                              7 di Cuori\n",
      "                                               3 di Picche\n",
      "                                                2 di Fiori\n",
      "                                                 8 di Fiori\n",
      "                                                  8 di Cuori\n",
      "\n"
     ]
    }
   ],
   "source": [
    "mazzo_blu.pesca()\n",
    "print(mazzo_blu)"
   ]
  },
  {
   "cell_type": "code",
   "execution_count": 133,
   "metadata": {},
   "outputs": [
    {
     "data": {
      "text/plain": [
       "True"
      ]
     },
     "execution_count": 133,
     "metadata": {},
     "output_type": "execute_result"
    }
   ],
   "source": [
    "mazzo_blu.rimuovi(carta2)"
   ]
  },
  {
   "cell_type": "code",
   "execution_count": 134,
   "metadata": {},
   "outputs": [
    {
     "name": "stdout",
     "output_type": "stream",
     "text": [
      "Asso di Picche\n",
      " 2 di Quadri\n",
      "  5 di Fiori\n",
      "   10 di Picche\n",
      "    9 di Cuori\n",
      "     9 di Fiori\n",
      "      Re di Fiori\n",
      "       5 di Quadri\n",
      "        Donna di Fiori\n",
      "         10 di Fiori\n",
      "          Donna di Picche\n",
      "           3 di Cuori\n",
      "            Asso di Cuori\n",
      "             Donna di Quadri\n",
      "              4 di Quadri\n",
      "               Asso di Quadri\n",
      "                5 di Cuori\n",
      "                 5 di Picche\n",
      "                  8 di Quadri\n",
      "                   7 di Quadri\n",
      "                    3 di Fiori\n",
      "                     Asso di Fiori\n",
      "                      Re di Quadri\n",
      "                       Re di Cuori\n",
      "                        Fante di Quadri\n",
      "                         6 di Quadri\n",
      "                          2 di Cuori\n",
      "                           8 di Picche\n",
      "                            6 di Picche\n",
      "                             4 di Cuori\n",
      "                              9 di Picche\n",
      "                               2 di Picche\n",
      "                                Fante di Fiori\n",
      "                                 Re di Picche\n",
      "                                  4 di Fiori\n",
      "                                   7 di Fiori\n",
      "                                    10 di Cuori\n",
      "                                     9 di Quadri\n",
      "                                      Fante di Cuori\n",
      "                                       6 di Fiori\n",
      "                                        4 di Picche\n",
      "                                         Fante di Picche\n",
      "                                          Donna di Cuori\n",
      "                                           10 di Quadri\n",
      "                                            6 di Cuori\n",
      "                                             7 di Cuori\n",
      "                                              3 di Picche\n",
      "                                               2 di Fiori\n",
      "                                                8 di Fiori\n",
      "                                                 8 di Cuori\n",
      "\n"
     ]
    }
   ],
   "source": [
    "print(mazzo_blu)"
   ]
  },
  {
   "cell_type": "markdown",
   "metadata": {},
   "source": [
    "# Esercizio 8\n",
    "\n",
    "Nella classe `Carta` modificare `__cmp` in modo che `Asso` sia considerato più alto del `Re`"
   ]
  },
  {
   "cell_type": "code",
   "execution_count": null,
   "metadata": {
    "collapsed": true
   },
   "outputs": [],
   "source": []
  }
 ],
 "metadata": {
  "kernelspec": {
   "display_name": "Python 3",
   "language": "python",
   "name": "python3"
  },
  "language_info": {
   "codemirror_mode": {
    "name": "ipython",
    "version": 3
   },
   "file_extension": ".py",
   "mimetype": "text/x-python",
   "name": "python",
   "nbconvert_exporter": "python",
   "pygments_lexer": "ipython3",
   "version": "3.7.1"
  },
  "toc": {
   "base_numbering": 1,
   "nav_menu": {},
   "number_sections": true,
   "sideBar": true,
   "skip_h1_title": false,
   "title_cell": "Table of Contents",
   "title_sidebar": "Contents",
   "toc_cell": false,
   "toc_position": {},
   "toc_section_display": true,
   "toc_window_display": false
  }
 },
 "nbformat": 4,
 "nbformat_minor": 2
}
