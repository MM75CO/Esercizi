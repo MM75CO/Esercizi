{
 "cells": [
  {
   "cell_type": "markdown",
   "metadata": {},
   "source": [
    "# Esercizio 3 (ottimizzato)\n",
    "\n",
    "#### Autore: P. Scordino\n",
    "#### Data: 01 maggio 2020"
   ]
  },
  {
   "cell_type": "code",
   "execution_count": 158,
   "metadata": {},
   "outputs": [],
   "source": [
    "# Importazione moduli\n",
    "\n",
    "import pandas as pd            # modulo per la manipolazione dei datafraame\n",
    "import numpy as np             # modulo per calcoli algebrici\n",
    "from itertools import compress # funzione che permette di filtrare rispetto ad un vettore logico"
   ]
  },
  {
   "cell_type": "code",
   "execution_count": 159,
   "metadata": {},
   "outputs": [],
   "source": [
    "# Caricamento dataset (file csv) e subsetting dello stesso\n",
    "\n",
    "df = pd.read_csv('cli-prod.csv')\n",
    "df1 = df.iloc()[:, 1:len(df.columns) + 1]"
   ]
  },
  {
   "cell_type": "code",
   "execution_count": 160,
   "metadata": {},
   "outputs": [
    {
     "data": {
      "text/plain": [
       "'ID_Cliente'"
      ]
     },
     "execution_count": 160,
     "metadata": {},
     "output_type": "execute_result"
    }
   ],
   "source": [
    "# Estrazione delle etichette delle colonne in esame\n",
    "\n",
    "lista_prodotti = list(df.columns)\n",
    "lista_prodotti.pop(0)"
   ]
  },
  {
   "cell_type": "code",
   "execution_count": 161,
   "metadata": {},
   "outputs": [],
   "source": [
    "# Trasformazione del dataframe in un array\n",
    "\n",
    "df_array = df1.to_numpy()"
   ]
  },
  {
   "cell_type": "code",
   "execution_count": 162,
   "metadata": {},
   "outputs": [],
   "source": [
    "# Calcolo della distanza euclidea con due metodi semplici\n",
    "\n",
    "#lista_dist2 = []\n",
    "\n",
    "#for i in range(len(df_array) - 1):\n",
    "#    lista_dist2.append(np.linalg.norm(df_array[9] - df_array[i]))\n",
    "    \n",
    "lista_dist = []\n",
    "\n",
    "for i in range(len(df_array) - 1):\n",
    "    lista_dist.append(np.sqrt(np.sum((df_array[len(df_array) - 1] - df_array[i]) ** 2, axis=0)))"
   ]
  },
  {
   "cell_type": "code",
   "execution_count": 163,
   "metadata": {},
   "outputs": [],
   "source": [
    "# Conteggio del numero di distanza minime ed estrazione dei relativi indici\n",
    "\n",
    "counting = []\n",
    "index = []\n",
    "for i, j in enumerate(lista_dist):\n",
    "    count = 0\n",
    "    if j == min(lista_dist):\n",
    "        count += 1\n",
    "        counting.append(count)\n",
    "        index.append(i)"
   ]
  },
  {
   "cell_type": "code",
   "execution_count": 164,
   "metadata": {},
   "outputs": [],
   "source": [
    "# Estrazione dei nomi  dei Clienti e del Cliente in esame\n",
    "\n",
    "Clienti = df.iloc[0:len(df), :1].to_numpy()\n",
    "Cliente = df.iloc[(len(df) - 1):len(df), :1].to_numpy()[0, 0]"
   ]
  },
  {
   "cell_type": "code",
   "execution_count": 165,
   "metadata": {},
   "outputs": [
    {
     "data": {
      "text/html": [
       "<div>\n",
       "<style scoped>\n",
       "    .dataframe tbody tr th:only-of-type {\n",
       "        vertical-align: middle;\n",
       "    }\n",
       "\n",
       "    .dataframe tbody tr th {\n",
       "        vertical-align: top;\n",
       "    }\n",
       "\n",
       "    .dataframe thead th {\n",
       "        text-align: right;\n",
       "    }\n",
       "</style>\n",
       "<table border=\"1\" class=\"dataframe\">\n",
       "  <thead>\n",
       "    <tr style=\"text-align: right;\">\n",
       "      <th></th>\n",
       "      <th>ID_Cliente</th>\n",
       "      <th>sesso_M</th>\n",
       "      <th>sesso_F</th>\n",
       "      <th>patata</th>\n",
       "      <th>carota</th>\n",
       "      <th>sedano</th>\n",
       "      <th>broccolo</th>\n",
       "      <th>verza</th>\n",
       "    </tr>\n",
       "  </thead>\n",
       "  <tbody>\n",
       "    <tr>\n",
       "      <th>9</th>\n",
       "      <td>Z</td>\n",
       "      <td>2</td>\n",
       "      <td>0</td>\n",
       "      <td>1</td>\n",
       "      <td>0</td>\n",
       "      <td>0</td>\n",
       "      <td>1</td>\n",
       "      <td>0</td>\n",
       "    </tr>\n",
       "  </tbody>\n",
       "</table>\n",
       "</div>"
      ],
      "text/plain": [
       "  ID_Cliente  sesso_M  sesso_F  patata  carota  sedano  broccolo  verza\n",
       "9          Z        2        0       1       0       0         1      0"
      ]
     },
     "execution_count": 165,
     "metadata": {},
     "output_type": "execute_result"
    }
   ],
   "source": [
    "# Cliente in esame (posizionato alla fine del dataset)\n",
    "\n",
    "df.iloc[(len(df)-1):len(df), ]"
   ]
  },
  {
   "cell_type": "code",
   "execution_count": 166,
   "metadata": {},
   "outputs": [
    {
     "data": {
      "text/html": [
       "<div>\n",
       "<style scoped>\n",
       "    .dataframe tbody tr th:only-of-type {\n",
       "        vertical-align: middle;\n",
       "    }\n",
       "\n",
       "    .dataframe tbody tr th {\n",
       "        vertical-align: top;\n",
       "    }\n",
       "\n",
       "    .dataframe thead th {\n",
       "        text-align: right;\n",
       "    }\n",
       "</style>\n",
       "<table border=\"1\" class=\"dataframe\">\n",
       "  <thead>\n",
       "    <tr style=\"text-align: right;\">\n",
       "      <th></th>\n",
       "      <th>ID_Cliente</th>\n",
       "      <th>sesso_M</th>\n",
       "      <th>sesso_F</th>\n",
       "      <th>patata</th>\n",
       "      <th>carota</th>\n",
       "      <th>sedano</th>\n",
       "      <th>broccolo</th>\n",
       "      <th>verza</th>\n",
       "    </tr>\n",
       "  </thead>\n",
       "  <tbody>\n",
       "    <tr>\n",
       "      <th>1</th>\n",
       "      <td>B</td>\n",
       "      <td>2</td>\n",
       "      <td>0</td>\n",
       "      <td>1</td>\n",
       "      <td>0</td>\n",
       "      <td>1</td>\n",
       "      <td>1</td>\n",
       "      <td>0</td>\n",
       "    </tr>\n",
       "  </tbody>\n",
       "</table>\n",
       "</div>"
      ],
      "text/plain": [
       "  ID_Cliente  sesso_M  sesso_F  patata  carota  sedano  broccolo  verza\n",
       "1          B        2        0       1       0       1         1      0"
      ]
     },
     "execution_count": 166,
     "metadata": {},
     "output_type": "execute_result"
    }
   ],
   "source": [
    "# Cliente o Clienti con distanza minima rispetto al cliente in esame\n",
    "\n",
    "df.iloc[index, ]"
   ]
  },
  {
   "cell_type": "code",
   "execution_count": 167,
   "metadata": {},
   "outputs": [],
   "source": [
    "# Ricerca dei prodotti mancanti rispetto al Cliente in esame e ai Clienti con minore distanza euclidea\n",
    "\n",
    "lista_logica = []\n",
    "for i, j in enumerate(index):\n",
    "     lista_logica.append(list(df_array[len(df_array)-1] != df_array[j]))"
   ]
  },
  {
   "cell_type": "code",
   "execution_count": 168,
   "metadata": {},
   "outputs": [
    {
     "name": "stdout",
     "output_type": "stream",
     "text": [
      "A Z viene proposto il seguente prodotto: ['sedano']\n"
     ]
    }
   ],
   "source": [
    "# Risultato\n",
    "\n",
    "risultato = list(compress(lista_prodotti, lista_logica[0]))\n",
    "if len(risultato) > 1:\n",
    "    print(f'A', Cliente, 'vengono proposti i seguenti prodotti:', risultato)\n",
    "else:\n",
    "    print(f'A', Cliente, 'viene proposto il seguente prodotto:', risultato)"
   ]
  },
  {
   "cell_type": "markdown",
   "metadata": {},
   "source": [
    "### Creazione di un dendrogramma"
   ]
  },
  {
   "cell_type": "code",
   "execution_count": 173,
   "metadata": {},
   "outputs": [
    {
     "data": {
      "image/png": "[encoded data removed]",
      "text/plain": [
       "<Figure size 432x288 with 1 Axes>"
      ]
     },
     "metadata": {
      "needs_background": "light"
     },
     "output_type": "display_data"
    }
   ],
   "source": [
    "import scipy.cluster.hierarchy as sch\n",
    "import matplotlib.pyplot as plt\n",
    "\n",
    "dendrogram = sch.dendrogram(sch.linkage(df_array, method  = \"ward\"))\n",
    "plt.title('Dendrogramma')\n",
    "plt.xlabel('Clienti')\n",
    "plt.ylabel('Distanza Euclidea')\n",
    "plt.show()"
   ]
  }
 ],
 "metadata": {
  "kernelspec": {
   "display_name": "Python 3.8.2 64-bit",
   "language": "python",
   "name": "python38264bit339e52b596994b9dbc06adef6435429c"
  },
  "language_info": {
   "codemirror_mode": {
    "name": "ipython",
    "version": 3
   },
   "file_extension": ".py",
   "mimetype": "text/x-python",
   "name": "python",
   "nbconvert_exporter": "python",
   "pygments_lexer": "ipython3",
   "version": "3.8.2"
  }
 },
 "nbformat": 4,
 "nbformat_minor": 4
}
