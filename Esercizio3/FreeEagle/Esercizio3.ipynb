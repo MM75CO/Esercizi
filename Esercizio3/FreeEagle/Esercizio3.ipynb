{
 "cells": [
  {
   "cell_type": "markdown",
   "metadata": {},
   "source": [
    "# Esercizio 3\n",
    "\n",
    "#### Autore: P. Scordino\n",
    "#### Data: 01 maggio 2020"
   ]
  },
  {
   "cell_type": "code",
   "execution_count": 1,
   "metadata": {},
   "outputs": [],
   "source": [
    "# Importazione moduli\n",
    "\n",
    "import pandas as pd            # modulo per la manipolazione dei datafraame\n",
    "import numpy as np             # modulo per calcoli algebrici\n",
    "from itertools import compress # funzione del modulo intertools che permette di filtrare rispetto ad un vettore logico"
   ]
  },
  {
   "cell_type": "code",
   "execution_count": 2,
   "metadata": {},
   "outputs": [],
   "source": [
    "# Caricamento dataset (file csv) e subsetting dello stesso\n",
    "\n",
    "df = pd.read_csv('../cli-prod.csv')\n",
    "df1 = df.iloc()[:, 1:8]"
   ]
  },
  {
   "cell_type": "code",
   "execution_count": 3,
   "metadata": {},
   "outputs": [
    {
     "data": {
      "text/plain": [
       "'ID_Cliente'"
      ]
     },
     "execution_count": 3,
     "metadata": {},
     "output_type": "execute_result"
    }
   ],
   "source": [
    "# Estrazione delle etichette delle colonne in esame\n",
    "\n",
    "lista_prodotti = list(df.columns)\n",
    "lista_prodotti.pop(0)"
   ]
  },
  {
   "cell_type": "code",
   "execution_count": 4,
   "metadata": {},
   "outputs": [],
   "source": [
    "# Trasformazione del dataframe in un array\n",
    "\n",
    "df_array = df1.to_numpy()"
   ]
  },
  {
   "cell_type": "code",
   "execution_count": 5,
   "metadata": {},
   "outputs": [],
   "source": [
    "# Calcolo della distanza euclidea con due metodi semplici\n",
    "\n",
    "#lista_dist2 = []\n",
    "\n",
    "#for i in range(len(df_array) - 1):\n",
    "#    lista_dist2.append(np.linalg.norm(df_array[9] - df_array[i]))\n",
    "    \n",
    "lista_dist = []\n",
    "\n",
    "for i in range(len(df_array) - 1):\n",
    "    lista_dist.append(np.sqrt(np.sum((df_array[9] - df_array[i]) ** 2, axis=0)))"
   ]
  },
  {
   "cell_type": "code",
   "execution_count": 6,
   "metadata": {},
   "outputs": [],
   "source": [
    "# Conteggio del numero di distanza minime ed estrazione dei relativi indici\n",
    "\n",
    "counting = []\n",
    "index = []\n",
    "for i, j in enumerate(lista_dist):\n",
    "    count = 0\n",
    "    if j == min(lista_dist):\n",
    "        count += 1\n",
    "        counting.append(count)\n",
    "        index.append(i)"
   ]
  },
  {
   "cell_type": "code",
   "execution_count": 7,
   "metadata": {},
   "outputs": [],
   "source": [
    "# Estrazione dei nomi \n",
    "\n",
    "ID_Cliente = list(df['ID_Cliente'][0:9])\n",
    "ID_Cliente_z = list(df['ID_Cliente'][9:10])"
   ]
  },
  {
   "cell_type": "code",
   "execution_count": 8,
   "metadata": {},
   "outputs": [
    {
     "data": {
      "text/html": [
       "<div>\n",
       "<style scoped>\n",
       "    .dataframe tbody tr th:only-of-type {\n",
       "        vertical-align: middle;\n",
       "    }\n",
       "\n",
       "    .dataframe tbody tr th {\n",
       "        vertical-align: top;\n",
       "    }\n",
       "\n",
       "    .dataframe thead th {\n",
       "        text-align: right;\n",
       "    }\n",
       "</style>\n",
       "<table border=\"1\" class=\"dataframe\">\n",
       "  <thead>\n",
       "    <tr style=\"text-align: right;\">\n",
       "      <th></th>\n",
       "      <th>ID_Cliente</th>\n",
       "      <th>sesso_M</th>\n",
       "      <th>sesso_F</th>\n",
       "      <th>patata</th>\n",
       "      <th>carota</th>\n",
       "      <th>sedano</th>\n",
       "      <th>broccolo</th>\n",
       "      <th>verza</th>\n",
       "    </tr>\n",
       "  </thead>\n",
       "  <tbody>\n",
       "    <tr>\n",
       "      <th>1</th>\n",
       "      <td>B</td>\n",
       "      <td>2</td>\n",
       "      <td>0</td>\n",
       "      <td>1</td>\n",
       "      <td>0</td>\n",
       "      <td>1</td>\n",
       "      <td>1</td>\n",
       "      <td>0</td>\n",
       "    </tr>\n",
       "  </tbody>\n",
       "</table>\n",
       "</div>"
      ],
      "text/plain": [
       "  ID_Cliente  sesso_M  sesso_F  patata  carota  sedano  broccolo  verza\n",
       "1          B        2        0       1       0       1         1      0"
      ]
     },
     "execution_count": 8,
     "metadata": {},
     "output_type": "execute_result"
    }
   ],
   "source": [
    "# Cliente o Clienti con distanza minima rispetto al cliente \"Z\"\n",
    "\n",
    "df.iloc[index, ]"
   ]
  },
  {
   "cell_type": "code",
   "execution_count": 9,
   "metadata": {},
   "outputs": [
    {
     "data": {
      "text/html": [
       "<div>\n",
       "<style scoped>\n",
       "    .dataframe tbody tr th:only-of-type {\n",
       "        vertical-align: middle;\n",
       "    }\n",
       "\n",
       "    .dataframe tbody tr th {\n",
       "        vertical-align: top;\n",
       "    }\n",
       "\n",
       "    .dataframe thead th {\n",
       "        text-align: right;\n",
       "    }\n",
       "</style>\n",
       "<table border=\"1\" class=\"dataframe\">\n",
       "  <thead>\n",
       "    <tr style=\"text-align: right;\">\n",
       "      <th></th>\n",
       "      <th>ID_Cliente</th>\n",
       "      <th>sesso_M</th>\n",
       "      <th>sesso_F</th>\n",
       "      <th>patata</th>\n",
       "      <th>carota</th>\n",
       "      <th>sedano</th>\n",
       "      <th>broccolo</th>\n",
       "      <th>verza</th>\n",
       "    </tr>\n",
       "  </thead>\n",
       "  <tbody>\n",
       "    <tr>\n",
       "      <th>9</th>\n",
       "      <td>Z</td>\n",
       "      <td>2</td>\n",
       "      <td>0</td>\n",
       "      <td>1</td>\n",
       "      <td>0</td>\n",
       "      <td>0</td>\n",
       "      <td>1</td>\n",
       "      <td>0</td>\n",
       "    </tr>\n",
       "  </tbody>\n",
       "</table>\n",
       "</div>"
      ],
      "text/plain": [
       "  ID_Cliente  sesso_M  sesso_F  patata  carota  sedano  broccolo  verza\n",
       "9          Z        2        0       1       0       0         1      0"
      ]
     },
     "execution_count": 9,
     "metadata": {},
     "output_type": "execute_result"
    }
   ],
   "source": [
    "# Cliente \"Z\"\n",
    "\n",
    "df.iloc[9:10, ]"
   ]
  },
  {
   "cell_type": "code",
   "execution_count": 10,
   "metadata": {},
   "outputs": [],
   "source": [
    "# Ricerca dei prodotti mancanti rispetto al Cliente \"Z\" e ai clienti con minore distanza euclidea\n",
    "\n",
    "lista_logica = []\n",
    "for i, j in enumerate(index):\n",
    "     lista_logica.append(list(df_array[9] != df_array[j]))"
   ]
  },
  {
   "cell_type": "code",
   "execution_count": 11,
   "metadata": {},
   "outputs": [
    {
     "name": "stdout",
     "output_type": "stream",
     "text": [
      "Al cliente \"Z\" viene proposto il seguente prodotto:  sedano\n"
     ]
    }
   ],
   "source": [
    "# Risultato (deve essere generalizzato!)\n",
    "\n",
    "risultato = list(compress(lista_prodotti, lista_logica[0]))\n",
    "print(f'Al cliente \"Z\" viene proposto il seguente prodotto: ', risultato[0])"
   ]
  },
  {
   "cell_type": "markdown",
   "metadata": {},
   "source": [
    "### Creazione di un dendrogramma"
   ]
  },
  {
   "cell_type": "code",
   "execution_count": 12,
   "metadata": {},
   "outputs": [],
   "source": [
    "X = df_array"
   ]
  },
  {
   "cell_type": "code",
   "execution_count": 13,
   "metadata": {},
   "outputs": [
    {
     "data": {
      "text/plain": [
       "array([[2, 0, 1, 0, 1, 0, 0],\n",
       "       [2, 0, 1, 0, 1, 1, 0],\n",
       "       [2, 0, 1, 0, 1, 0, 1],\n",
       "       [2, 0, 1, 0, 1, 0, 1],\n",
       "       [0, 2, 1, 0, 1, 0, 1],\n",
       "       [0, 2, 1, 0, 1, 1, 1],\n",
       "       [0, 2, 1, 0, 1, 1, 1],\n",
       "       [0, 2, 1, 0, 1, 1, 1],\n",
       "       [0, 2, 1, 0, 1, 0, 0],\n",
       "       [2, 0, 1, 0, 0, 1, 0]])"
      ]
     },
     "execution_count": 13,
     "metadata": {},
     "output_type": "execute_result"
    }
   ],
   "source": [
    "X"
   ]
  },
  {
   "cell_type": "code",
   "execution_count": 14,
   "metadata": {},
   "outputs": [
    {
     "data": {
      "image/png": "[encoded data removed]",
      "text/plain": [
       "<Figure size 432x288 with 1 Axes>"
      ]
     },
     "metadata": {
      "needs_background": "light"
     },
     "output_type": "display_data"
    }
   ],
   "source": [
    "import scipy.cluster.hierarchy as sch\n",
    "import matplotlib.pyplot as plt\n",
    "\n",
    "dendrogram = sch.dendrogram(sch.linkage(X, method  = \"ward\"))\n",
    "plt.title('Dendrogram')\n",
    "plt.xlabel('Customers')\n",
    "plt.ylabel('Euclidean distances')\n",
    "plt.show()"
   ]
  }
 ],
 "metadata": {
  "kernelspec": {
   "display_name": "Python 3.8.2 64-bit",
   "language": "python",
   "name": "python38264bit339e52b596994b9dbc06adef6435429c"
  },
  "language_info": {
   "codemirror_mode": {
    "name": "ipython",
    "version": 3
   },
   "file_extension": ".py",
   "mimetype": "text/x-python",
   "name": "python",
   "nbconvert_exporter": "python",
   "pygments_lexer": "ipython3",
   "version": "3.8.2"
  }
 },
 "nbformat": 4,
 "nbformat_minor": 4
}
