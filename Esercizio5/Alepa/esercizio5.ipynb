{
 "cells": [
  {
   "cell_type": "code",
   "execution_count": 52,
   "metadata": {},
   "outputs": [],
   "source": [
    "class ContoCorrente():\n",
    "    def __init__(self):\n",
    "        self.saldo = 0\n",
    "\n",
    "    def versa (self,importo):\n",
    "        self.saldo += importo\n",
    "\n",
    "    def preleva (self,importo):\n",
    "        if importo <= self.saldo:\n",
    "            self.saldo -=  importo\n",
    "        else:\n",
    "            print (\"Prelievo non effettuato - Non hai fondi sufficienti\")\n",
    "\n",
    "    def getSaldo (self):\n",
    "        print(\"Saldo = \" , self.saldo)"
   ]
  },
  {
   "cell_type": "code",
   "execution_count": 53,
   "metadata": {},
   "outputs": [
    {
     "name": "stdout",
     "output_type": "stream",
     "text": [
      "Saldo =  500\n",
      "Saldo =  400\n"
     ]
    }
   ],
   "source": [
    "miocc = ContoCorrente ()\n",
    "miocc.versa(500)\n",
    "miocc.getSaldo()\n",
    "miocc.preleva(100)\n",
    "miocc.getSaldo()"
   ]
  },
  {
   "cell_type": "code",
   "execution_count": 54,
   "metadata": {},
   "outputs": [],
   "source": [
    "# senza ereditarieta\n",
    "class ContoSpeciale():\n",
    "\tdef __init__(self):\n",
    "\t\tself.saldo = 0\n",
    "\t\tself.maxprelievo = 300\n",
    "\t\n",
    "\tdef versaAssegno (self,importo):\n",
    "\t\tself.saldo += importo\n",
    "\n",
    "\tdef preleva (self,importo):\n",
    "\t\tif (self.saldo >= importo) :\n",
    "\t\t\tif  (importo <= self.maxprelievo) :\n",
    "\t\t\t\tself.saldo -=  importo\n",
    "\t\t\t\tprint (\"Prelievo di  %s effettuato\" %importo)\n",
    "\t\t\t\t#print(\"%s is %d years old.\" % (name, age))\n",
    "\t\t\telse:\n",
    "\t\t\t\tprint (\"Prelievo non effettuato - Prelievo massimo = \",self.maxprelievo)\n",
    "\t\telse:\n",
    "\t\t\tprint (\"Prelievo non effettuato - Non hai fondi sufficienti\")\n",
    "\n",
    "\tdef getSaldo (self):\n",
    "\t\tprint(\"Saldo = \",self.saldo)\n"
   ]
  },
  {
   "cell_type": "code",
   "execution_count": 55,
   "metadata": {},
   "outputs": [
    {
     "name": "stdout",
     "output_type": "stream",
     "text": [
      "Saldo =  350\n",
      "Prelievo non effettuato - Non hai fondi sufficienti\n",
      "Prelievo non effettuato - Prelievo massimo =  300\n",
      "Saldo =  350\n",
      "Prelievo di  300 effettuato\n",
      "Saldo =  50\n"
     ]
    }
   ],
   "source": [
    "miocs = ContoSpeciale ()\n",
    "miocs.versaAssegno(350)\n",
    "miocs.getSaldo()\n",
    "miocs.preleva(500)\n",
    "miocs.preleva(301)\n",
    "miocs.getSaldo()\n",
    "miocs.preleva(300)\n",
    "miocs.getSaldo()"
   ]
  },
  {
   "cell_type": "code",
   "execution_count": null,
   "metadata": {},
   "outputs": [],
   "source": []
  },
  {
   "cell_type": "code",
   "execution_count": 56,
   "metadata": {},
   "outputs": [],
   "source": [
    "class Assegno():\n",
    "    def __init__(self, importo):\n",
    "        self.importo = importo\n",
    "\n",
    "\n",
    "class ContoSpecialeE(ContoCorrente):\n",
    "    MAXPRELIEVO = 300\n",
    "\n",
    "    def versaAssegno (self,assegno):\n",
    "        super().versa(assegno.importo)\n",
    "\n",
    "    def preleva(self,importo):\n",
    "        if importo > self.MAXPRELIEVO :\n",
    "            print (\"Prelievo non effettuato - Prelievo massimo = \",self.MAXPRELIEVO)\n",
    "        else :\n",
    "            super().preleva(importo)\n",
    "        "
   ]
  },
  {
   "cell_type": "code",
   "execution_count": 51,
   "metadata": {},
   "outputs": [
    {
     "name": "stdout",
     "output_type": "stream",
     "text": [
      "Saldo =  500\n",
      "Prelievo non effettuato - Prelievo massimo =  300\n",
      "Saldo =  500\n"
     ]
    }
   ],
   "source": [
    "miocs = ContoSpecialeE ()\n",
    "as1 = Assegno(500)\n",
    "miocs.versaAssegno(as1)\n",
    "miocs.getSaldo() \n",
    "miocs.preleva(400)\n",
    "miocs.getSaldo() \n",
    "miocs.preleva(100)\n",
    "miocs.getSaldo() "
   ]
  },
  {
   "cell_type": "code",
   "execution_count": null,
   "metadata": {},
   "outputs": [],
   "source": []
  }
 ],
 "metadata": {
  "kernelspec": {
   "display_name": "Python 3",
   "language": "python",
   "name": "python3"
  },
  "language_info": {
   "codemirror_mode": {
    "name": "ipython",
    "version": 3
   },
   "file_extension": ".py",
   "mimetype": "text/x-python",
   "name": "python",
   "nbconvert_exporter": "python",
   "pygments_lexer": "ipython3",
   "version": "3.6.10"
  }
 },
 "nbformat": 4,
 "nbformat_minor": 4
}
