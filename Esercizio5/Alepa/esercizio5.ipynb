{
 "cells": [
  {
   "cell_type": "code",
   "execution_count": 1,
   "metadata": {},
   "outputs": [],
   "source": [
    "class ContoCorrente():\n",
    "\tdef __init__(self):\n",
    "\t\tself.saldo = 0\n",
    "\t\n",
    "\tdef versa (self,importo):\n",
    "\t\tself.saldo += importo\n",
    "\t\t\n",
    "\tdef preleva (self,importo):\n",
    "\t\tself.saldo -=  importo\n",
    "\t\t\n",
    "\tdef getSaldo (self):\n",
    "\t\tprint(\"Saldo = \" , self.saldo)"
   ]
  },
  {
   "cell_type": "code",
   "execution_count": 2,
   "metadata": {},
   "outputs": [
    {
     "name": "stdout",
     "output_type": "stream",
     "text": [
      "Saldo =  500\n",
      "Saldo =  400\n"
     ]
    }
   ],
   "source": [
    "miocc = ContoCorrente ()\n",
    "miocc.versa(500)\n",
    "miocc.getSaldo()\n",
    "miocc.preleva(100)\n",
    "miocc.getSaldo()"
   ]
  },
  {
   "cell_type": "code",
   "execution_count": 3,
   "metadata": {},
   "outputs": [],
   "source": [
    "class ContoSpeciale():\n",
    "\tdef __init__(self):\n",
    "\t\tself.saldo = 0\n",
    "\t\tself.maxprelievo = 300\n",
    "\t\n",
    "\tdef versaAssegno (self,importo):\n",
    "\t\tself.saldo += importo\n",
    "\n",
    "\tdef preleva (self,importo):\n",
    "\t\tif (self.saldo >= importo) :\n",
    "\t\t\tif  (importo <= self.maxprelievo) :\n",
    "\t\t\t\tself.saldo -=  importo\n",
    "\t\t\t\tprint (\"Prelievo di  %s effettuato\" %importo)\n",
    "\t\t\t\t#print(\"%s is %d years old.\" % (name, age))\n",
    "\t\t\telse:\n",
    "\t\t\t\tprint (\"Prelievo non effettuato - Prelievo massimo = \",self.maxprelievo)\n",
    "\t\telse:\t\t\t\t\n",
    "\t\t\tprint (\"Prelievo non effettuato - Non hai fondi sufficienti\")\n",
    "\t\t\t\t\t\t\t\n",
    "\tdef getSaldo (self):\n",
    "\t\tprint(\"Saldo = \",self.saldo)"
   ]
  },
  {
   "cell_type": "code",
   "execution_count": 5,
   "metadata": {},
   "outputs": [
    {
     "name": "stdout",
     "output_type": "stream",
     "text": [
      "Saldo =  350\n",
      "Prelievo non effettuato - Non hai fondi sufficienti\n",
      "Prelievo non effettuato - Prelievo massimo =  300\n",
      "Saldo =  350\n",
      "Prelievo di  300 effettuato\n",
      "Saldo =  50\n"
     ]
    }
   ],
   "source": [
    "miocs = ContoSpeciale ()\n",
    "miocs.versaAssegno(350)\n",
    "miocs.getSaldo()\n",
    "miocs.preleva(500)\n",
    "miocs.preleva(301)\n",
    "miocs.getSaldo()\n",
    "miocs.preleva(300)\n",
    "miocs.getSaldo()"
   ]
  },
  {
   "cell_type": "code",
   "execution_count": null,
   "metadata": {},
   "outputs": [],
   "source": []
  }
 ],
 "metadata": {
  "kernelspec": {
   "display_name": "Python 3",
   "language": "python",
   "name": "python3"
  },
  "language_info": {
   "codemirror_mode": {
    "name": "ipython",
    "version": 3
   },
   "file_extension": ".py",
   "mimetype": "text/x-python",
   "name": "python",
   "nbconvert_exporter": "python",
   "pygments_lexer": "ipython3",
   "version": "3.6.10"
  }
 },
 "nbformat": 4,
 "nbformat_minor": 4
}
