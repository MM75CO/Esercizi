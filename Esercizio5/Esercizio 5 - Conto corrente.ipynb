{
 "cells": [
  {
   "cell_type": "markdown",
   "metadata": {},
   "source": [
    "# Prima parte\n",
    "\n",
    "**Classe ContoCorrente**\n",
    "\n",
    "Attributi\n",
    "saldo\n",
    "\n",
    "Metodi\n",
    "versa, preleva, getSaldo, stampaSaldo\n",
    "\n",
    "**Classe ContoSpeciale, eredita da ContoCorrente**\n",
    "\n",
    "Metodi\n",
    "versa, preleva\n",
    "\n",
    "<img src=\"Saldo_1.jpg\">"
   ]
  },
  {
   "cell_type": "code",
   "execution_count": 2,
   "metadata": {
    "collapsed": true
   },
   "outputs": [],
   "source": [
    "class ContoCorrente():\n",
    "    def __init__(self, intestatario):\n",
    "        self.intestatario = intestatario\n",
    "        self.saldo = 0\n",
    "        \n",
    "        #Andare avanti"
   ]
  },
  {
   "cell_type": "markdown",
   "metadata": {
    "collapsed": true
   },
   "source": [
    "# Seconda parte\n",
    "\n",
    "Definire una classe ContoSpeciale che estende il comportamento di ContoCorrente.\n",
    "\n",
    "Il metodo **versa** della classe ContoSpeciale riceve come parametro un oggetto di tipo Assegno e ne versa il contenuto sul conto.\n",
    "\n",
    "Il metodo **preleva** esegue il prelevamento solo se l'importo non supera un limite costante e se c'è disponibilità sul conto."
   ]
  }
 ],
 "metadata": {
  "kernelspec": {
   "display_name": "Python [conda env:Anaconda3]",
   "language": "python",
   "name": "conda-env-Anaconda3-py"
  },
  "language_info": {
   "codemirror_mode": {
    "name": "ipython",
    "version": 3
   },
   "file_extension": ".py",
   "mimetype": "text/x-python",
   "name": "python",
   "nbconvert_exporter": "python",
   "pygments_lexer": "ipython3",
   "version": "3.5.6"
  },
  "toc": {
   "base_numbering": 1,
   "nav_menu": {},
   "number_sections": true,
   "sideBar": true,
   "skip_h1_title": false,
   "title_cell": "Table of Contents",
   "title_sidebar": "Contents",
   "toc_cell": false,
   "toc_position": {},
   "toc_section_display": true,
   "toc_window_display": false
  }
 },
 "nbformat": 4,
 "nbformat_minor": 2
}
