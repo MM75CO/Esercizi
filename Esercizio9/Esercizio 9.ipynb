{
 "cells": [
  {
   "cell_type": "code",
   "execution_count": 1,
   "metadata": {},
   "outputs": [],
   "source": [
    "class Carta:\n",
    "    SEMI = [\"Fiori\", \"Quadri\", \"Cuori\", \"Picche\"]\n",
    "    # VALORI[0] è un valore arbitrario che non sarà mai usato\n",
    "    VALORI = [\"dummy\", \"Asso\", \"2\", \"3\", \"4\", \"5\", \"6\", \"7\", \n",
    "             \"8\", \"9\", \"10\", \"Fante\", \"Donna\", \"Re\"]\n",
    "\n",
    "    def __init__(self, seme=0, valore=0): \n",
    "        self.seme = seme \n",
    "        self.valore = valore\n",
    "\n",
    "    def __str__(self):\n",
    "        return (self.VALORI[self.valore] + \" di \" + self.SEMI[self.seme])\n",
    "    \n",
    "    # Metodo privato utile per fare confronti tra carte\n",
    "    # Arbitrariamente si da più importanza al seme\n",
    "    def __cmp(self, other):\n",
    "        # Controlla il seme\n",
    "        if self.seme > other.seme: \n",
    "            return 1 \n",
    "        if self.seme < other.seme: \n",
    "            return -1 \n",
    "        # Se seme uguale, controlla il valore\n",
    "        if self.valore > other.valore: \n",
    "            return 1 \n",
    "        if self.valore < other.valore: \n",
    "            return -1 \n",
    "        # Se ancora uguale, è un pareggio\n",
    "        return 0\n",
    "\n",
    "    def __eq__(self, other): \n",
    "        return self.__cmp(other) == 0 \n",
    "    \n",
    "    def __le__(self, other): \n",
    "        return self.__cmp(other) <= 0 \n",
    "    \n",
    "    def __ge__(self, other): \n",
    "        return self.__cmp(other) >= 0\n",
    "    \n",
    "    def __gt__(self, other): \n",
    "        return self.__cmp(other) > 0\n",
    "    \n",
    "    def __lt__(self, other): \n",
    "        return self.__cmp(other) < 0 \n",
    "    \n",
    "    def __ne__(self, other): \n",
    "        return self.__cmp(other) != 0"
   ]
  },
  {
   "cell_type": "code",
   "execution_count": 2,
   "metadata": {},
   "outputs": [
    {
     "name": "stdout",
     "output_type": "stream",
     "text": [
      "3 di Fiori\n"
     ]
    }
   ],
   "source": [
    "tre_di_fiori = Carta(0, 3)\n",
    "print(tre_di_fiori)"
   ]
  },
  {
   "cell_type": "code",
   "execution_count": 3,
   "metadata": {},
   "outputs": [
    {
     "name": "stdout",
     "output_type": "stream",
     "text": [
      "Fante di Quadri\n"
     ]
    }
   ],
   "source": [
    "carta1 = Carta(1, 11)\n",
    "print(carta1)"
   ]
  },
  {
   "cell_type": "code",
   "execution_count": 4,
   "metadata": {},
   "outputs": [
    {
     "name": "stdout",
     "output_type": "stream",
     "text": [
      "3 di Quadri\n"
     ]
    }
   ],
   "source": [
    "carta2 = Carta(1, 3)\n",
    "print(carta2)"
   ]
  },
  {
   "cell_type": "code",
   "execution_count": 5,
   "metadata": {},
   "outputs": [
    {
     "data": {
      "text/plain": [
       "'Quadri'"
      ]
     },
     "execution_count": 5,
     "metadata": {},
     "output_type": "execute_result"
    }
   ],
   "source": [
    "carta2.SEMI[1]"
   ]
  },
  {
   "cell_type": "code",
   "execution_count": 6,
   "metadata": {},
   "outputs": [
    {
     "data": {
      "text/plain": [
       "False"
      ]
     },
     "execution_count": 6,
     "metadata": {},
     "output_type": "execute_result"
    }
   ],
   "source": [
    "carta1 < carta2"
   ]
  },
  {
   "cell_type": "code",
   "execution_count": 7,
   "metadata": {},
   "outputs": [
    {
     "data": {
      "text/plain": [
       "True"
      ]
     },
     "execution_count": 7,
     "metadata": {},
     "output_type": "execute_result"
    }
   ],
   "source": [
    "carta3 = Carta(1, 3)\n",
    "carta3 == carta2"
   ]
  },
  {
   "cell_type": "code",
   "execution_count": 8,
   "metadata": {},
   "outputs": [],
   "source": [
    "class Mazzo:\n",
    "    def __init__(self): \n",
    "        self.carte = []\n",
    "        for seme in range(4): \n",
    "            for valore in range(1, 14): \n",
    "                self.carte.append(Carta(seme, valore))\n",
    "\n",
    "    def __str__(self): \n",
    "        s = \"\" \n",
    "        for i in range(len(self.carte)): \n",
    "            s = s + \" \" * i + str(self.carte[i]) + \"\\n\" \n",
    "        return s\n",
    "                \n",
    "    \n",
    "    def visualizza_mazzo(self):\n",
    "        for carta in self.carte: \n",
    "            print(carta)\n",
    "            \n",
    "    def mischia(self): \n",
    "        import random \n",
    "        rng = random.Random() \n",
    "        # Create a random generator \n",
    "        num_carte = len(self.carte)\n",
    "        # Metodo 2 più sintetico, equivalente a 1\n",
    "        #rng.shuffle(self.carte)\n",
    "        # Metodo 1\n",
    "        for i in range(num_carte): \n",
    "            j = rng.randrange(i, num_carte)\n",
    "            # Scambio posizione tra carte usando tupla\n",
    "            (self.carte[i], self.carte[j]) = (self.carte[j], self.carte[i])\n",
    "    \n",
    "    def rimuovi(self, carta): \n",
    "        if carta in self.carte: \n",
    "            self.carte.remove(carta) \n",
    "            return True \n",
    "        else: \n",
    "            return False\n",
    "    \n",
    "    def pesca(self):\n",
    "        # Anche se pesca dal fondo\n",
    "        return self.carte.pop()\n",
    "    \n",
    "    def mazzo_vuoto(self): \n",
    "        return self.carte == []"
   ]
  },
  {
   "cell_type": "code",
   "execution_count": 9,
   "metadata": {},
   "outputs": [],
   "source": [
    "mazzo_rosso = Mazzo()\n",
    "mazzo_blu = Mazzo()"
   ]
  },
  {
   "cell_type": "code",
   "execution_count": 10,
   "metadata": {},
   "outputs": [
    {
     "name": "stdout",
     "output_type": "stream",
     "text": [
      "Asso di Fiori\n",
      "2 di Fiori\n",
      "3 di Fiori\n",
      "4 di Fiori\n",
      "5 di Fiori\n",
      "6 di Fiori\n",
      "7 di Fiori\n",
      "8 di Fiori\n",
      "9 di Fiori\n",
      "10 di Fiori\n",
      "Fante di Fiori\n",
      "Donna di Fiori\n",
      "Re di Fiori\n",
      "Asso di Quadri\n",
      "2 di Quadri\n",
      "3 di Quadri\n",
      "4 di Quadri\n",
      "5 di Quadri\n",
      "6 di Quadri\n",
      "7 di Quadri\n",
      "8 di Quadri\n",
      "9 di Quadri\n",
      "10 di Quadri\n",
      "Fante di Quadri\n",
      "Donna di Quadri\n",
      "Re di Quadri\n",
      "Asso di Cuori\n",
      "2 di Cuori\n",
      "3 di Cuori\n",
      "4 di Cuori\n",
      "5 di Cuori\n",
      "6 di Cuori\n",
      "7 di Cuori\n",
      "8 di Cuori\n",
      "9 di Cuori\n",
      "10 di Cuori\n",
      "Fante di Cuori\n",
      "Donna di Cuori\n",
      "Re di Cuori\n",
      "Asso di Picche\n",
      "2 di Picche\n",
      "3 di Picche\n",
      "4 di Picche\n",
      "5 di Picche\n",
      "6 di Picche\n",
      "7 di Picche\n",
      "8 di Picche\n",
      "9 di Picche\n",
      "10 di Picche\n",
      "Fante di Picche\n",
      "Donna di Picche\n",
      "Re di Picche\n"
     ]
    }
   ],
   "source": [
    "mazzo_blu.visualizza_mazzo()"
   ]
  },
  {
   "cell_type": "code",
   "execution_count": 11,
   "metadata": {},
   "outputs": [
    {
     "name": "stdout",
     "output_type": "stream",
     "text": [
      "Asso di Fiori\n",
      " 2 di Fiori\n",
      "  3 di Fiori\n",
      "   4 di Fiori\n",
      "    5 di Fiori\n",
      "     6 di Fiori\n",
      "      7 di Fiori\n",
      "       8 di Fiori\n",
      "        9 di Fiori\n",
      "         10 di Fiori\n",
      "          Fante di Fiori\n",
      "           Donna di Fiori\n",
      "            Re di Fiori\n",
      "             Asso di Quadri\n",
      "              2 di Quadri\n",
      "               3 di Quadri\n",
      "                4 di Quadri\n",
      "                 5 di Quadri\n",
      "                  6 di Quadri\n",
      "                   7 di Quadri\n",
      "                    8 di Quadri\n",
      "                     9 di Quadri\n",
      "                      10 di Quadri\n",
      "                       Fante di Quadri\n",
      "                        Donna di Quadri\n",
      "                         Re di Quadri\n",
      "                          Asso di Cuori\n",
      "                           2 di Cuori\n",
      "                            3 di Cuori\n",
      "                             4 di Cuori\n",
      "                              5 di Cuori\n",
      "                               6 di Cuori\n",
      "                                7 di Cuori\n",
      "                                 8 di Cuori\n",
      "                                  9 di Cuori\n",
      "                                   10 di Cuori\n",
      "                                    Fante di Cuori\n",
      "                                     Donna di Cuori\n",
      "                                      Re di Cuori\n",
      "                                       Asso di Picche\n",
      "                                        2 di Picche\n",
      "                                         3 di Picche\n",
      "                                          4 di Picche\n",
      "                                           5 di Picche\n",
      "                                            6 di Picche\n",
      "                                             7 di Picche\n",
      "                                              8 di Picche\n",
      "                                               9 di Picche\n",
      "                                                10 di Picche\n",
      "                                                 Fante di Picche\n",
      "                                                  Donna di Picche\n",
      "                                                   Re di Picche\n",
      "\n"
     ]
    }
   ],
   "source": [
    "print(mazzo_blu)"
   ]
  },
  {
   "cell_type": "code",
   "execution_count": 12,
   "metadata": {},
   "outputs": [],
   "source": [
    "mazzo_blu.mischia()"
   ]
  },
  {
   "cell_type": "code",
   "execution_count": 13,
   "metadata": {},
   "outputs": [
    {
     "name": "stdout",
     "output_type": "stream",
     "text": [
      "8 di Fiori\n",
      " 10 di Quadri\n",
      "  10 di Picche\n",
      "   Fante di Fiori\n",
      "    3 di Cuori\n",
      "     Re di Quadri\n",
      "      Donna di Fiori\n",
      "       Donna di Cuori\n",
      "        5 di Picche\n",
      "         2 di Quadri\n",
      "          Re di Picche\n",
      "           6 di Cuori\n",
      "            4 di Quadri\n",
      "             Fante di Quadri\n",
      "              7 di Picche\n",
      "               5 di Fiori\n",
      "                4 di Fiori\n",
      "                 Donna di Quadri\n",
      "                  Re di Cuori\n",
      "                   9 di Cuori\n",
      "                    9 di Picche\n",
      "                     2 di Fiori\n",
      "                      3 di Picche\n",
      "                       Fante di Picche\n",
      "                        Asso di Picche\n",
      "                         5 di Quadri\n",
      "                          5 di Cuori\n",
      "                           2 di Cuori\n",
      "                            7 di Quadri\n",
      "                             Asso di Fiori\n",
      "                              2 di Picche\n",
      "                               4 di Picche\n",
      "                                6 di Fiori\n",
      "                                 Fante di Cuori\n",
      "                                  10 di Cuori\n",
      "                                   6 di Quadri\n",
      "                                    6 di Picche\n",
      "                                     10 di Fiori\n",
      "                                      8 di Cuori\n",
      "                                       4 di Cuori\n",
      "                                        3 di Quadri\n",
      "                                         Re di Fiori\n",
      "                                          9 di Fiori\n",
      "                                           9 di Quadri\n",
      "                                            7 di Cuori\n",
      "                                             7 di Fiori\n",
      "                                              Donna di Picche\n",
      "                                               Asso di Cuori\n",
      "                                                Asso di Quadri\n",
      "                                                 8 di Quadri\n",
      "                                                  3 di Fiori\n",
      "                                                   8 di Picche\n",
      "\n"
     ]
    }
   ],
   "source": [
    "print(mazzo_blu)"
   ]
  },
  {
   "cell_type": "code",
   "execution_count": 14,
   "metadata": {},
   "outputs": [
    {
     "name": "stdout",
     "output_type": "stream",
     "text": [
      "8 di Fiori\n",
      " 10 di Quadri\n",
      "  10 di Picche\n",
      "   Fante di Fiori\n",
      "    3 di Cuori\n",
      "     Re di Quadri\n",
      "      Donna di Fiori\n",
      "       Donna di Cuori\n",
      "        5 di Picche\n",
      "         2 di Quadri\n",
      "          Re di Picche\n",
      "           6 di Cuori\n",
      "            4 di Quadri\n",
      "             Fante di Quadri\n",
      "              7 di Picche\n",
      "               5 di Fiori\n",
      "                4 di Fiori\n",
      "                 Donna di Quadri\n",
      "                  Re di Cuori\n",
      "                   9 di Cuori\n",
      "                    9 di Picche\n",
      "                     2 di Fiori\n",
      "                      3 di Picche\n",
      "                       Fante di Picche\n",
      "                        Asso di Picche\n",
      "                         5 di Quadri\n",
      "                          5 di Cuori\n",
      "                           2 di Cuori\n",
      "                            7 di Quadri\n",
      "                             Asso di Fiori\n",
      "                              2 di Picche\n",
      "                               4 di Picche\n",
      "                                6 di Fiori\n",
      "                                 Fante di Cuori\n",
      "                                  10 di Cuori\n",
      "                                   6 di Quadri\n",
      "                                    6 di Picche\n",
      "                                     10 di Fiori\n",
      "                                      8 di Cuori\n",
      "                                       4 di Cuori\n",
      "                                        3 di Quadri\n",
      "                                         Re di Fiori\n",
      "                                          9 di Fiori\n",
      "                                           9 di Quadri\n",
      "                                            7 di Cuori\n",
      "                                             7 di Fiori\n",
      "                                              Donna di Picche\n",
      "                                               Asso di Cuori\n",
      "                                                Asso di Quadri\n",
      "                                                 8 di Quadri\n",
      "                                                  3 di Fiori\n",
      "\n"
     ]
    }
   ],
   "source": [
    "mazzo_blu.pesca()\n",
    "print(mazzo_blu)"
   ]
  },
  {
   "cell_type": "code",
   "execution_count": 15,
   "metadata": {},
   "outputs": [
    {
     "data": {
      "text/plain": [
       "True"
      ]
     },
     "execution_count": 15,
     "metadata": {},
     "output_type": "execute_result"
    }
   ],
   "source": [
    "mazzo_blu.rimuovi(carta2)"
   ]
  },
  {
   "cell_type": "code",
   "execution_count": 16,
   "metadata": {},
   "outputs": [
    {
     "name": "stdout",
     "output_type": "stream",
     "text": [
      "8 di Fiori\n",
      " 10 di Quadri\n",
      "  10 di Picche\n",
      "   Fante di Fiori\n",
      "    3 di Cuori\n",
      "     Re di Quadri\n",
      "      Donna di Fiori\n",
      "       Donna di Cuori\n",
      "        5 di Picche\n",
      "         2 di Quadri\n",
      "          Re di Picche\n",
      "           6 di Cuori\n",
      "            4 di Quadri\n",
      "             Fante di Quadri\n",
      "              7 di Picche\n",
      "               5 di Fiori\n",
      "                4 di Fiori\n",
      "                 Donna di Quadri\n",
      "                  Re di Cuori\n",
      "                   9 di Cuori\n",
      "                    9 di Picche\n",
      "                     2 di Fiori\n",
      "                      3 di Picche\n",
      "                       Fante di Picche\n",
      "                        Asso di Picche\n",
      "                         5 di Quadri\n",
      "                          5 di Cuori\n",
      "                           2 di Cuori\n",
      "                            7 di Quadri\n",
      "                             Asso di Fiori\n",
      "                              2 di Picche\n",
      "                               4 di Picche\n",
      "                                6 di Fiori\n",
      "                                 Fante di Cuori\n",
      "                                  10 di Cuori\n",
      "                                   6 di Quadri\n",
      "                                    6 di Picche\n",
      "                                     10 di Fiori\n",
      "                                      8 di Cuori\n",
      "                                       4 di Cuori\n",
      "                                        Re di Fiori\n",
      "                                         9 di Fiori\n",
      "                                          9 di Quadri\n",
      "                                           7 di Cuori\n",
      "                                            7 di Fiori\n",
      "                                             Donna di Picche\n",
      "                                              Asso di Cuori\n",
      "                                               Asso di Quadri\n",
      "                                                8 di Quadri\n",
      "                                                 3 di Fiori\n",
      "\n"
     ]
    }
   ],
   "source": [
    "print(mazzo_blu)"
   ]
  },
  {
   "cell_type": "markdown",
   "metadata": {},
   "source": [
    "#  Inizio 13/06/2020"
   ]
  },
  {
   "cell_type": "code",
   "execution_count": 77,
   "metadata": {},
   "outputs": [],
   "source": [
    "class Mano(Mazzo):\n",
    "    '''\n",
    "    Mano di partita di carte\n",
    "    '''\n",
    "    def __init__(self, nome=\"\"):\n",
    "        self.carte = []\n",
    "        self.nome = nome\n",
    "\n",
    "    def __str__(self):\n",
    "        s = \"La mano di \" + self.nome\n",
    "        if self.mazzo_vuoto(): \n",
    "            s += \" è vuota\\n\" \n",
    "        else: \n",
    "            s += \" contiene\\n\" \n",
    "        return s + Mazzo.__str__(self)                \n",
    "      \n",
    "\n",
    "    def aggiungi(self, carta):\n",
    "        self.carte.append(carta)\n",
    "        "
   ]
  },
  {
   "cell_type": "markdown",
   "metadata": {},
   "source": [
    "Aggiungo metodo distribuisci_carte:"
   ]
  },
  {
   "cell_type": "code",
   "execution_count": 78,
   "metadata": {},
   "outputs": [],
   "source": [
    "class Mazzo:\n",
    "    '''\n",
    "    Mazzo di Carte\n",
    "    '''\n",
    "\n",
    "    def __init__(self):\n",
    "        self.carte = []\n",
    "        for seme in range(4):\n",
    "            for valore in range(1, 14):\n",
    "                self.carte.append(Carta(seme, valore))\n",
    "\n",
    "    def __str__(self):\n",
    "        s = \"\"\n",
    "        for i in range(len(self.carte)):\n",
    "            s = s + \" \" * i + str(self.carte[i]) + \"\\n\"\n",
    "        return s\n",
    "\n",
    "    def visualizza_mazzo(self):\n",
    "        for carta in self.carte:\n",
    "            print(carta)\n",
    "\n",
    "    def mischia(self):\n",
    "        import random\n",
    "        rng = random.Random()\n",
    "        # Create a random generator\n",
    "        num_carte = len(self.carte)\n",
    "        # Metodo 2 più sintetico, equivalente a 1\n",
    "        # rng.shuffle(self.carte)\n",
    "        # Metodo 1\n",
    "        for i in range(num_carte):\n",
    "            j = rng.randrange(i, num_carte)\n",
    "            # Scambio posizione tra carte usando tupla\n",
    "            (self.carte[i], self.carte[j]) = (self.carte[j], self.carte[i])\n",
    "\n",
    "    def rimuovi(self, carta):\n",
    "        if carta in self.carte:\n",
    "            self.carte.remove(carta)\n",
    "            return True\n",
    "        else:\n",
    "            return False\n",
    "\n",
    "    def pesca(self):\n",
    "        # Anche se pesca dal fondo\n",
    "        return self.carte.pop()\n",
    "\n",
    "    def mazzo_vuoto(self):\n",
    "        return self.carte == []\n",
    "\n",
    "    def distribuisci_carte(self, mani, num_carte=999):\n",
    "        '''\n",
    "        Metodo abbastanza generico perchè dipende dal tipo di gioco;\n",
    "        num_carte è opzionale, se non è passato si distribuiscono tutte\n",
    "        mani è una lista o tupla di oggetti Mano\n",
    "        '''\n",
    "        num_mani = len(mani)\n",
    "        for i in range(num_carte):\n",
    "            if self.mazzo_vuoto():\n",
    "                break  # Esce se le carte sono finite\n",
    "            carta = self.pesca()  # Prende la carta in cima\n",
    "            mano = mani[i % num_mani]  # Di chi è il turno?\n",
    "            mano.aggiungi(carta)  # Aggiunge la carta alla mano"
   ]
  },
  {
   "cell_type": "code",
   "execution_count": 79,
   "metadata": {},
   "outputs": [],
   "source": [
    "# Distribuisco tutte le carte tra 3 giocatori\n",
    "mazzo_verde = Mazzo()\n",
    "mazzo_verde.mischia()\n",
    "carte_mario = Mano(\"Mario\")\n",
    "carte_davide = Mano(\"Davide\")\n",
    "carte_maria_teresa = Mano(\"Maria Terese\")"
   ]
  },
  {
   "cell_type": "code",
   "execution_count": 80,
   "metadata": {},
   "outputs": [],
   "source": [
    "mazzo_verde.distribuisci_carte((carte_mario, carte_davide, carte_maria_teresa))"
   ]
  },
  {
   "cell_type": "code",
   "execution_count": 81,
   "metadata": {},
   "outputs": [
    {
     "name": "stdout",
     "output_type": "stream",
     "text": [
      "La mano di Mario contiene\n",
      "8 di Cuori\n",
      " 6 di Picche\n",
      "  Fante di Picche\n",
      "   9 di Quadri\n",
      "    Fante di Fiori\n",
      "     2 di Quadri\n",
      "      Donna di Quadri\n",
      "       7 di Quadri\n",
      "        Fante di Cuori\n",
      "         6 di Cuori\n",
      "          10 di Quadri\n",
      "           7 di Picche\n",
      "            Re di Quadri\n",
      "             7 di Cuori\n",
      "              Asso di Fiori\n",
      "               6 di Fiori\n",
      "                6 di Quadri\n",
      "                 Donna di Fiori\n",
      "\n"
     ]
    }
   ],
   "source": [
    "print(carte_mario)"
   ]
  },
  {
   "cell_type": "code",
   "execution_count": 82,
   "metadata": {},
   "outputs": [
    {
     "name": "stdout",
     "output_type": "stream",
     "text": [
      "La mano di Davide contiene\n",
      "10 di Picche\n",
      " 5 di Cuori\n",
      "  3 di Quadri\n",
      "   5 di Fiori\n",
      "    Asso di Cuori\n",
      "     4 di Picche\n",
      "      Donna di Cuori\n",
      "       9 di Picche\n",
      "        Asso di Picche\n",
      "         10 di Cuori\n",
      "          3 di Fiori\n",
      "           5 di Picche\n",
      "            Fante di Quadri\n",
      "             4 di Quadri\n",
      "              Re di Fiori\n",
      "               Asso di Quadri\n",
      "                3 di Picche\n",
      "\n"
     ]
    }
   ],
   "source": [
    "print(carte_davide)"
   ]
  },
  {
   "cell_type": "code",
   "execution_count": 83,
   "metadata": {},
   "outputs": [
    {
     "name": "stdout",
     "output_type": "stream",
     "text": [
      "La mano di Maria Terese contiene\n",
      "7 di Fiori\n",
      " 8 di Quadri\n",
      "  8 di Picche\n",
      "   Re di Cuori\n",
      "    10 di Fiori\n",
      "     Donna di Picche\n",
      "      4 di Cuori\n",
      "       9 di Cuori\n",
      "        2 di Cuori\n",
      "         9 di Fiori\n",
      "          3 di Cuori\n",
      "           2 di Fiori\n",
      "            2 di Picche\n",
      "             8 di Fiori\n",
      "              4 di Fiori\n",
      "               Re di Picche\n",
      "                5 di Quadri\n",
      "\n"
     ]
    }
   ],
   "source": [
    "print(carte_maria_teresa)"
   ]
  },
  {
   "cell_type": "code",
   "execution_count": 84,
   "metadata": {},
   "outputs": [],
   "source": [
    "# Distribuisco solo 5 carte\n",
    "mazzo_blu = Mazzo()\n",
    "mazzo_blu.mischia()\n",
    "carte_frank = Mano(\"Frank\")\n",
    "mazzo_blu.distribuisci_carte([carte_frank],5)"
   ]
  },
  {
   "cell_type": "code",
   "execution_count": 85,
   "metadata": {},
   "outputs": [
    {
     "name": "stdout",
     "output_type": "stream",
     "text": [
      "La mano di Frank contiene\n",
      "Donna di Quadri\n",
      " 3 di Cuori\n",
      "  8 di Picche\n",
      "   2 di Picche\n",
      "    5 di Fiori\n",
      "\n"
     ]
    }
   ],
   "source": [
    "print(carte_frank)"
   ]
  },
  {
   "cell_type": "code",
   "execution_count": 86,
   "metadata": {},
   "outputs": [],
   "source": [
    "class GiocoDiCarte:\n",
    "    def __init__(self): \n",
    "        self.mazzo = Mazzo() \n",
    "        self.mazzo.mischia()"
   ]
  },
  {
   "cell_type": "code",
   "execution_count": 88,
   "metadata": {},
   "outputs": [],
   "source": []
  },
  {
   "cell_type": "code",
   "execution_count": 160,
   "metadata": {},
   "outputs": [],
   "source": [
    "class ManoVecchiaZitella(Mano):\n",
    "    \n",
    "    def rimuovi_accoppiamenti(self): \n",
    "        contatore_accoppiamenti = 0\n",
    "        # Copia delle carte per \"percorrerla\"; self.carte viene modificata\n",
    "        carte_originali = self.carte[:] \n",
    "        for carta in carte_originali:\n",
    "            #SEMI = [\"Fiori\", \"Quadri\", \"Cuori\", \"Picche\"]\n",
    "            #3 - seme trasforma: Fiori (0) in Picche (3) e Quadri (1) in Cuori (2)\n",
    "            carta_gemella = Carta(3 - carta.seme, carta.valore) \n",
    "            if carta_gemella in self.carte: \n",
    "                self.carte.remove(carta) \n",
    "                self.carte.remove(carta_gemella) \n",
    "                print(\"Mano {0}: {1} si accoppia con {2}\".format(self.nome, carta, carta_gemella)) \n",
    "                contatore_accoppiamenti += 1 \n",
    "        return contatore_accoppiamenti"
   ]
  },
  {
   "cell_type": "code",
   "execution_count": 165,
   "metadata": {},
   "outputs": [],
   "source": [
    "gioco = GiocoDiCarte()\n",
    "mano = ManoVecchiaZitella(\"Giancarlo\")"
   ]
  },
  {
   "cell_type": "code",
   "execution_count": 166,
   "metadata": {},
   "outputs": [],
   "source": [
    "gioco.mazzo.distribuisci_carte([mano],13)"
   ]
  },
  {
   "cell_type": "code",
   "execution_count": 167,
   "metadata": {},
   "outputs": [
    {
     "name": "stdout",
     "output_type": "stream",
     "text": [
      "La mano di Giancarlo contiene\n",
      "2 di Cuori\n",
      " 8 di Picche\n",
      "  7 di Cuori\n",
      "   10 di Fiori\n",
      "    3 di Quadri\n",
      "     9 di Quadri\n",
      "      4 di Cuori\n",
      "       Donna di Fiori\n",
      "        3 di Cuori\n",
      "         6 di Fiori\n",
      "          6 di Quadri\n",
      "           8 di Fiori\n",
      "            10 di Quadri\n",
      "\n"
     ]
    }
   ],
   "source": [
    "print(mano)"
   ]
  },
  {
   "cell_type": "code",
   "execution_count": 168,
   "metadata": {},
   "outputs": [
    {
     "name": "stdout",
     "output_type": "stream",
     "text": [
      "Mano Giancarlo: 8 di Picche si accoppia con 8 di Fiori\n",
      "Mano Giancarlo: 3 di Quadri si accoppia con 3 di Cuori\n"
     ]
    },
    {
     "data": {
      "text/plain": [
       "2"
      ]
     },
     "execution_count": 168,
     "metadata": {},
     "output_type": "execute_result"
    }
   ],
   "source": [
    "mano.rimuovi_accoppiamenti()"
   ]
  },
  {
   "cell_type": "code",
   "execution_count": 169,
   "metadata": {},
   "outputs": [
    {
     "name": "stdout",
     "output_type": "stream",
     "text": [
      "La mano di Giancarlo contiene\n",
      "2 di Cuori\n",
      " 7 di Cuori\n",
      "  10 di Fiori\n",
      "   9 di Quadri\n",
      "    4 di Cuori\n",
      "     Donna di Fiori\n",
      "      6 di Fiori\n",
      "       6 di Quadri\n",
      "        10 di Quadri\n",
      "\n"
     ]
    }
   ],
   "source": [
    "print(mano)"
   ]
  },
  {
   "cell_type": "code",
   "execution_count": 205,
   "metadata": {},
   "outputs": [],
   "source": [
    "class VecchiaZitella(GiocoDiCarte):\n",
    "    def gioca(self, nomi): \n",
    "        # Rimuove la Regina di Fiori \n",
    "        self.mazzo.rimuovi(Carta(0,12))\n",
    "        # Una mano per ciascun giocatore\n",
    "        self.mani = [] \n",
    "        for n in nomi: \n",
    "            self.mani.append(ManoVecchiaZitella(n))\n",
    "        \n",
    "        # Distribuisce\n",
    "        self.mazzo.distribuisci_carte(self.mani) \n",
    "        print(\"---------- Carte distribuite\") \n",
    "        self.print_mani()\n",
    "        \n",
    "        # Gestisce accoppiamenti iniziali\n",
    "        accoppiamenti = self.rimuovi_tutti_accoppiamenti() \n",
    "        print(\"---------- Accoppiamenti effettuati, il gioco inizia...\") \n",
    "        self.print_mani()\n",
    "        \n",
    "        # Si gioca finchè tutte le 50 sono accoppiate\n",
    "        turno = 0 \n",
    "        num_mani = len(self.mani) \n",
    "        while accoppiamenti < 25: \n",
    "            accoppiamenti += self.gioca_un_turno(turno) \n",
    "            turno = (turno + 1) % num_mani\n",
    "        \n",
    "        print(\"---------- Game Over\") \n",
    "        self.print_mani()\n",
    "        \n",
    "    def rimuovi_tutti_accoppiamenti(self): \n",
    "        contatore_accoppiamenti = 0 \n",
    "        for m in self.mani: \n",
    "            contatore_accoppiamenti += m.rimuovi_accoppiamenti() \n",
    "        return contatore_accoppiamenti\n",
    "    \n",
    "    def gioca_un_turno(self, i): \n",
    "        if self.mani[i].mazzo_vuoto(): \n",
    "            return 0 \n",
    "        vicino = self.trova_vicino(i) \n",
    "        carta_pescata = self.mani[vicino].pesca() \n",
    "        self.mani[i].aggiungi(carta_pescata)\n",
    "        print(\"Mano di\", self.mani[i].nome, \"pesca\", carta_pescata) \n",
    "        count = self.mani[i].rimuovi_accoppiamenti() \n",
    "        self.mani[i].mischia() \n",
    "        return count\n",
    "\n",
    "    def trova_vicino(self, i): \n",
    "        num_mani = len(self.mani) \n",
    "        for next in range(1,num_mani): \n",
    "            vicino = (i + next) % num_mani \n",
    "            if not self.mani[vicino].mazzo_vuoto(): \n",
    "                return vicino\n",
    "    \n",
    "    def print_mani(self):\n",
    "        # Esercizio 9.1\n",
    "        pass"
   ]
  },
  {
   "cell_type": "code",
   "execution_count": 206,
   "metadata": {},
   "outputs": [
    {
     "name": "stdout",
     "output_type": "stream",
     "text": [
      "---------- Carte distribuite\n",
      "Mano Barbara: Asso di Fiori si accoppia con Asso di Picche\n",
      "Mano Barbara: 4 di Cuori si accoppia con 4 di Quadri\n",
      "Mano Asbjorn: 8 di Picche si accoppia con 8 di Fiori\n",
      "Mano Asbjorn: Asso di Cuori si accoppia con Asso di Quadri\n",
      "Mano Asbjorn: 4 di Fiori si accoppia con 4 di Picche\n",
      "Mano Davide: 5 di Picche si accoppia con 5 di Fiori\n",
      "Mano Davide: Fante di Picche si accoppia con Fante di Fiori\n",
      "---------- Accoppiamenti effettuati, il gioco inizia...\n",
      "Mano di Barbara pesca 6 di Picche\n",
      "Mano Barbara: 6 di Fiori si accoppia con 6 di Picche\n",
      "Mano di Asbjorn pesca 8 di Cuori\n",
      "Mano di Davide pesca 2 di Quadri\n",
      "Mano Davide: 2 di Cuori si accoppia con 2 di Quadri\n",
      "Mano di Barbara pesca 3 di Quadri\n",
      "Mano di Asbjorn pesca Fante di Quadri\n",
      "Mano Asbjorn: Fante di Cuori si accoppia con Fante di Quadri\n",
      "Mano di Davide pesca 5 di Cuori\n",
      "Mano Davide: 5 di Quadri si accoppia con 5 di Cuori\n",
      "Mano di Barbara pesca 9 di Fiori\n",
      "Mano Barbara: 9 di Picche si accoppia con 9 di Fiori\n",
      "Mano di Asbjorn pesca Re di Quadri\n",
      "Mano Asbjorn: Re di Cuori si accoppia con Re di Quadri\n",
      "Mano di Davide pesca 3 di Fiori\n",
      "Mano Davide: 3 di Picche si accoppia con 3 di Fiori\n",
      "Mano di Barbara pesca 6 di Cuori\n",
      "Mano Barbara: 6 di Quadri si accoppia con 6 di Cuori\n",
      "Mano di Asbjorn pesca Donna di Quadri\n",
      "Mano di Davide pesca 8 di Quadri\n",
      "Mano di Barbara pesca 8 di Cuori\n",
      "Mano di Asbjorn pesca Re di Picche\n",
      "Mano di Davide pesca 7 di Fiori\n",
      "Mano Davide: 7 di Picche si accoppia con 7 di Fiori\n",
      "Mano di Barbara pesca 10 di Picche\n",
      "Mano di Asbjorn pesca 3 di Cuori\n",
      "Mano di Davide pesca 8 di Cuori\n",
      "Mano Davide: 8 di Quadri si accoppia con 8 di Cuori\n",
      "Mano di Barbara pesca Donna di Picche\n",
      "Mano di Asbjorn pesca 7 di Quadri\n",
      "Mano Asbjorn: 7 di Cuori si accoppia con 7 di Quadri\n",
      "Mano di Davide pesca Donna di Cuori\n",
      "Mano di Barbara pesca 2 di Picche\n",
      "Mano Barbara: 2 di Fiori si accoppia con 2 di Picche\n",
      "Mano di Asbjorn pesca 9 di Quadri\n",
      "Mano di Davide pesca 10 di Cuori\n",
      "Mano di Barbara pesca 3 di Cuori\n",
      "Mano Barbara: 3 di Quadri si accoppia con 3 di Cuori\n",
      "Mano di Asbjorn pesca 10 di Fiori\n",
      "Mano di Davide pesca 10 di Picche\n",
      "Mano di Barbara pesca 9 di Quadri\n",
      "Mano Barbara: 9 di Cuori si accoppia con 9 di Quadri\n",
      "Mano di Asbjorn pesca 10 di Cuori\n",
      "Mano Asbjorn: 10 di Quadri si accoppia con 10 di Cuori\n",
      "Mano di Davide pesca Re di Fiori\n",
      "Mano di Barbara pesca Donna di Quadri\n",
      "Mano di Asbjorn pesca Donna di Cuori\n",
      "Mano di Davide pesca Donna di Quadri\n",
      "Mano di Barbara pesca Re di Picche\n",
      "Mano di Asbjorn pesca 10 di Picche\n",
      "Mano Asbjorn: 10 di Fiori si accoppia con 10 di Picche\n",
      "Mano di Davide pesca Donna di Picche\n",
      "Mano di Barbara pesca Donna di Cuori\n",
      "Mano di Davide pesca Re di Picche\n",
      "Mano Davide: Re di Fiori si accoppia con Re di Picche\n",
      "Mano di Barbara pesca Donna di Picche\n",
      "Mano di Davide pesca Donna di Cuori\n",
      "Mano Davide: Donna di Quadri si accoppia con Donna di Cuori\n",
      "---------- Game Over\n"
     ]
    }
   ],
   "source": [
    "game = VecchiaZitella()\n",
    "game.gioca([\"Barbara\",\"Asbjorn\",\"Davide\"])"
   ]
  },
  {
   "cell_type": "markdown",
   "metadata": {},
   "source": [
    "# Esercizio 9.1\n",
    "\n",
    "Implementare il metodo *print_mani* del gioco **VecchiaZitella**\n",
    "per visualizzare le carte di tutti i giocatori."
   ]
  },
  {
   "cell_type": "markdown",
   "metadata": {},
   "source": [
    "# Esercizio 9.2\n",
    "\n",
    "Implementare il gioco dell' **Asino**, dove si accoppiano le carte per valore (senza guardare il seme)"
   ]
  },
  {
   "cell_type": "code",
   "execution_count": null,
   "metadata": {},
   "outputs": [],
   "source": []
  }
 ],
 "metadata": {
  "kernelspec": {
   "display_name": "Python 3",
   "language": "python",
   "name": "python3"
  },
  "language_info": {
   "codemirror_mode": {
    "name": "ipython",
    "version": 3
   },
   "file_extension": ".py",
   "mimetype": "text/x-python",
   "name": "python",
   "nbconvert_exporter": "python",
   "pygments_lexer": "ipython3",
   "version": "3.7.1"
  },
  "toc": {
   "base_numbering": 1,
   "nav_menu": {},
   "number_sections": true,
   "sideBar": true,
   "skip_h1_title": false,
   "title_cell": "Table of Contents",
   "title_sidebar": "Contents",
   "toc_cell": false,
   "toc_position": {},
   "toc_section_display": true,
   "toc_window_display": false
  }
 },
 "nbformat": 4,
 "nbformat_minor": 2
}
