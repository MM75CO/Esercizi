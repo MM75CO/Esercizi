{
 "cells": [
  {
   "cell_type": "markdown",
   "metadata": {},
   "source": [
    "# Part 1"
   ]
  },
  {
   "cell_type": "markdown",
   "metadata": {},
   "source": [
    "In this exercise, you will implement class `Country`, which represents a country with a name, a population, and an area.\n",
    "\n",
    "Here is a sample interaction:"
   ]
  },
  {
   "cell_type": "markdown",
   "metadata": {},
   "source": [
    "```\n",
    ">>>canada = Country('Canada', 34482779, 9984670)\n",
    ">>>canada.name\n",
    "'Canada'\n",
    ">>>canada.population\n",
    "34482779\t\n",
    ">>>canada.area\n",
    "9984670\n",
    "```"
   ]
  },
  {
   "cell_type": "markdown",
   "metadata": {},
   "source": [
    "The code above cannot be executed yet because class Country does not exist. \n",
    "\n",
    "Define `Country` with a constructor (method `__init__`) that has four parameters: a country, its name, its population, and its area."
   ]
  },
  {
   "cell_type": "markdown",
   "metadata": {},
   "source": [
    "Consider this code:\n",
    "```\n",
    ">>>canada = Country('Canada', 34482779, 9984670)\n",
    ">>>usa = Country('United States of America', 313914040, 9826675)​\n",
    ">>>canada.is_larger(usa)\n",
    "True\n",
    "```"
   ]
  },
  {
   "cell_type": "markdown",
   "metadata": {},
   "source": [
    "In class `Country`, define a method named `is_larger` that takes two `Country` objects and returns `True` if and only if the first has a larger area than the second.\n",
    "Consider this code:\n",
    "\n",
    "```\n",
    ">>>canada.population_density()\n",
    "3.4535722262227995\n",
    "```"
   ]
  },
  {
   "cell_type": "markdown",
   "metadata": {},
   "source": [
    "In class `Country`, define a method named `population_density` that returns the population density of the country (people per square km)."
   ]
  },
  {
   "cell_type": "markdown",
   "metadata": {},
   "source": [
    "Consider this code:\n",
    "\n",
    "``` \t\n",
    ">>>usa = Country('United States of America', 313914040, 9826675)\n",
    ">>>print(usa)\n",
    "United States of America has a population of 313914040 and is 9826675 square km.\n",
    "```\n",
    "In class `Country`, define a method named `__str__` that returns a string representation of the country in the format shown above.\n",
    "\n",
    "After you have written `__str__`, this session shows that a `__repr__` method would be useful:\n",
    "\n",
    "```\n",
    ">>>canada = Country('Canada', 34482779, 9984670)\n",
    ">>>canada\n",
    "<exercise_country.Country object at 0x7f2aba30b550>\n",
    ">>>[canada]\n",
    "[<exercise_country.Country object at 0x7f2aba30b550>]\n",
    ">>>print(canada)\n",
    "Canada has population 34482779 and is 9984670 square km.\n",
    "```\n",
    "\n",
    "Define the `__repr__` method in `Country` to produce a string that behaves like this:\n",
    "\n",
    "```\n",
    ">>>canada = Country('Canada', 34482779, 9984670)\n",
    ">>>canada\n",
    "Country('Canada', 34482779, 9984670)\n",
    ">>>[canada]\n",
    "[Country('Canada', 34482779, 9984670)]\n",
    "```"
   ]
  },
  {
   "cell_type": "markdown",
   "metadata": {},
   "source": [
    "# Part 2\n",
    "\n",
    "In this exercise, you will implement a `Continent` class, which represents a continent with a name and a list of countries. \n",
    "\n",
    "Class `Continent` will use class `Country` from the previous exercise. \n",
    "If `Country` is defined in another module, you’ll need to import it.\n",
    "\n",
    "``` \t\n",
    ">>>canada = country.Country('Canada', 34482779, 9984670)\n",
    ">>>usa = country.Country('United States of America', 313914040,9826675)\n",
    ">>>mexico = country.Country('Mexico', 112336538, 1943950)\n",
    ">>>countries = [canada, usa, mexico]\n",
    ">>>north_america = Continent('North America', countries)\n",
    ">>>north_america.name\n",
    "'North America'\n",
    "```\n",
    "\n",
    "```\n",
    "for country in north_america.countries:\n",
    "    print(country)\n",
    "```"
   ]
  },
  {
   "cell_type": "markdown",
   "metadata": {},
   "source": [
    "The code above cannot be executed yet, because class `Continent` does not exist. \n",
    "\n",
    "Define `Continent` with a constructor (method `__init__`) that has three parameters: a continent, its name, and its list of `Country` objects.\n",
    "\n",
    "Consider this code:\n",
    "\n",
    "```\n",
    ">>>north_america.total_population()\n",
    "460733357\n",
    "```\n",
    "\n",
    "In class `Continent`, define a method named `total_population` that returns the sum of the populations of the countries on this continent."
   ]
  },
  {
   "cell_type": "markdown",
   "metadata": {},
   "source": [
    "Consider this code:\n",
    "\n",
    "```\n",
    ">>>print(north_america)\n",
    "North America\n",
    "Canada has a population of 34482779 and is 9984670 square km.\n",
    "United States of America has a population of 313914040 and is 9826675 square km.\n",
    "Mexico has a population of 112336538 and is 1943950 square km.\n",
    "```\n",
    "\n",
    "In class `Continent`, define a method named `__str__` that returns a string representation of the continent in the format shown above."
   ]
  },
  {
   "cell_type": "markdown",
   "metadata": {},
   "source": [
    "# Part 3\n",
    "\n",
    "Per chi ha voglia, questo esercizio ci permette di sperimentare un approccio di sviluppo guidato dai test (**TDD - Test Driven Development**).\n",
    "L'esercizio infatti ci guida nella creazione della classi dandoci anche i test di validazione.\n",
    "\n",
    "A scelta quindi usare un framework di Python per la creazione e il lancio dei test automatici tra:\n",
    "\n",
    "- pytest ( https://pypi.org/project/pytest/ )\n",
    "- unit test ( https://docs.python.org/3/library/unittest.html  )"
   ]
  }
 ],
 "metadata": {
  "kernelspec": {
   "display_name": "Python [default]",
   "language": "python",
   "name": "python3"
  },
  "language_info": {
   "codemirror_mode": {
    "name": "ipython",
    "version": 3
   },
   "file_extension": ".py",
   "mimetype": "text/x-python",
   "name": "python",
   "nbconvert_exporter": "python",
   "pygments_lexer": "ipython3",
   "version": "3.5.6"
  },
  "toc": {
   "base_numbering": 1,
   "nav_menu": {},
   "number_sections": true,
   "sideBar": true,
   "skip_h1_title": false,
   "title_cell": "Table of Contents",
   "title_sidebar": "Contents",
   "toc_cell": false,
   "toc_position": {},
   "toc_section_display": true,
   "toc_window_display": false
  }
 },
 "nbformat": 4,
 "nbformat_minor": 2
}
