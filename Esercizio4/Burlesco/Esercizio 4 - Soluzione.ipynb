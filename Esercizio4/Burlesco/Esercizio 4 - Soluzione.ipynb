{
 "cells": [
  {
   "cell_type": "markdown",
   "metadata": {},
   "source": [
    "# Punto2d e Punto3d - Conviene usare ereditarietà?\n",
    "\n",
    "## Punto (a due dimensioni)"
   ]
  },
  {
   "cell_type": "code",
   "execution_count": 1,
   "metadata": {
    "collapsed": true
   },
   "outputs": [],
   "source": [
    "import math\n",
    "\n",
    "class Punto():\n",
    "    def __init__(self, x, y):\n",
    "        print(f\"__init__ della classe Punto\")\n",
    "        print(f\"Sto creando un punto con coordinate {x} e {y}\")\n",
    "        self.move(x, y)\n",
    "        \n",
    "    def move(self, x1, y1):\n",
    "        print(f\"move della classe Punto\")\n",
    "        self.x = x1\n",
    "        self.y = y1\n",
    "        \n",
    "    def reset(self):\n",
    "        print(f\"reset della classe Punto\")\n",
    "        self.x = 0\n",
    "        self.y = 0\n",
    "    \n",
    "    def calcolo_distanza(self, altro_punto):\n",
    "        if isinstance(altro_punto, Punto):\n",
    "            distanza = math.sqrt( (self.x - altro_punto.x )**2 + (self.y - altro_punto.y)**2 )\n",
    "            return distanza\n",
    "        else:\n",
    "            raise Exception(\"Per favore non mischiamo patate con carote\")\n",
    "    \n",
    "    def __str__(self):\n",
    "        return \"(\"+str(self.x)+\",\"+str(self.y)+\")\"  \n",
    "        \n",
    "        "
   ]
  },
  {
   "cell_type": "code",
   "execution_count": 2,
   "metadata": {},
   "outputs": [
    {
     "name": "stdout",
     "output_type": "stream",
     "text": [
      "__init__ della classe Punto\n",
      "Sto creando un punto con coordinate 2 e 4\n",
      "move della classe Punto\n"
     ]
    }
   ],
   "source": [
    "p1 = Punto(2,4)"
   ]
  },
  {
   "cell_type": "code",
   "execution_count": 3,
   "metadata": {},
   "outputs": [
    {
     "data": {
      "text/plain": [
       "<__main__.Punto at 0x202bfeaba20>"
      ]
     },
     "execution_count": 3,
     "metadata": {},
     "output_type": "execute_result"
    }
   ],
   "source": [
    "p1"
   ]
  },
  {
   "cell_type": "code",
   "execution_count": 4,
   "metadata": {},
   "outputs": [
    {
     "name": "stdout",
     "output_type": "stream",
     "text": [
      "(2,4)\n"
     ]
    }
   ],
   "source": [
    "print(p1)"
   ]
  },
  {
   "cell_type": "code",
   "execution_count": 5,
   "metadata": {},
   "outputs": [
    {
     "name": "stdout",
     "output_type": "stream",
     "text": [
      "move della classe Punto\n"
     ]
    }
   ],
   "source": [
    "p1.move(4,5)"
   ]
  },
  {
   "cell_type": "code",
   "execution_count": 6,
   "metadata": {},
   "outputs": [
    {
     "data": {
      "text/plain": [
       "4"
      ]
     },
     "execution_count": 6,
     "metadata": {},
     "output_type": "execute_result"
    }
   ],
   "source": [
    "p1.x"
   ]
  },
  {
   "cell_type": "code",
   "execution_count": 7,
   "metadata": {},
   "outputs": [
    {
     "name": "stdout",
     "output_type": "stream",
     "text": [
      "reset della classe Punto\n"
     ]
    }
   ],
   "source": [
    "p1.reset()"
   ]
  },
  {
   "cell_type": "code",
   "execution_count": 8,
   "metadata": {},
   "outputs": [
    {
     "data": {
      "text/plain": [
       "0"
      ]
     },
     "execution_count": 8,
     "metadata": {},
     "output_type": "execute_result"
    }
   ],
   "source": [
    "p1.y"
   ]
  },
  {
   "cell_type": "code",
   "execution_count": 9,
   "metadata": {},
   "outputs": [
    {
     "name": "stdout",
     "output_type": "stream",
     "text": [
      "__init__ della classe Punto\n",
      "Sto creando un punto con coordinate 4 e -9\n",
      "move della classe Punto\n"
     ]
    }
   ],
   "source": [
    "p2 = Punto(4,-9)"
   ]
  },
  {
   "cell_type": "code",
   "execution_count": 10,
   "metadata": {},
   "outputs": [
    {
     "data": {
      "text/plain": [
       "9.848857801796104"
      ]
     },
     "execution_count": 10,
     "metadata": {},
     "output_type": "execute_result"
    }
   ],
   "source": [
    "p1.calcolo_distanza(p2)"
   ]
  },
  {
   "cell_type": "code",
   "execution_count": 11,
   "metadata": {},
   "outputs": [
    {
     "ename": "Exception",
     "evalue": "Per favore non mischiamo patate con carote",
     "output_type": "error",
     "traceback": [
      "\u001b[1;31m---------------------------------------------------------------------------\u001b[0m",
      "\u001b[1;31mException\u001b[0m                                 Traceback (most recent call last)",
      "\u001b[1;32m<ipython-input-11-3e06d3bfc1ee>\u001b[0m in \u001b[0;36m<module>\u001b[1;34m()\u001b[0m\n\u001b[0;32m      1\u001b[0m \u001b[0mp3\u001b[0m \u001b[1;33m=\u001b[0m \u001b[1;34m'Prova'\u001b[0m\u001b[1;33m\u001b[0m\u001b[0m\n\u001b[1;32m----> 2\u001b[1;33m \u001b[0mp1\u001b[0m\u001b[1;33m.\u001b[0m\u001b[0mcalcolo_distanza\u001b[0m\u001b[1;33m(\u001b[0m\u001b[0mp3\u001b[0m\u001b[1;33m)\u001b[0m\u001b[1;33m\u001b[0m\u001b[0m\n\u001b[0m",
      "\u001b[1;32m<ipython-input-1-4a1c4135894c>\u001b[0m in \u001b[0;36mcalcolo_distanza\u001b[1;34m(self, altro_punto)\u001b[0m\n\u001b[0;32m     22\u001b[0m             \u001b[1;32mreturn\u001b[0m \u001b[0mdistanza\u001b[0m\u001b[1;33m\u001b[0m\u001b[0m\n\u001b[0;32m     23\u001b[0m         \u001b[1;32melse\u001b[0m\u001b[1;33m:\u001b[0m\u001b[1;33m\u001b[0m\u001b[0m\n\u001b[1;32m---> 24\u001b[1;33m             \u001b[1;32mraise\u001b[0m \u001b[0mException\u001b[0m\u001b[1;33m(\u001b[0m\u001b[1;34m\"Per favore non mischiamo patate con carote\"\u001b[0m\u001b[1;33m)\u001b[0m\u001b[1;33m\u001b[0m\u001b[0m\n\u001b[0m\u001b[0;32m     25\u001b[0m \u001b[1;33m\u001b[0m\u001b[0m\n\u001b[0;32m     26\u001b[0m     \u001b[1;32mdef\u001b[0m \u001b[0m__str__\u001b[0m\u001b[1;33m(\u001b[0m\u001b[0mself\u001b[0m\u001b[1;33m)\u001b[0m\u001b[1;33m:\u001b[0m\u001b[1;33m\u001b[0m\u001b[0m\n",
      "\u001b[1;31mException\u001b[0m: Per favore non mischiamo patate con carote"
     ]
    }
   ],
   "source": [
    "p3 = 'Prova'\n",
    "p1.calcolo_distanza(p3)\n"
   ]
  },
  {
   "cell_type": "markdown",
   "metadata": {},
   "source": [
    "# Esercizio 4\n",
    "\n",
    "Provare ad implementare la classe `Punto3d` con gli stessi metodi della classe `Punto`.\n",
    "\n",
    "Dopo averla implementata, rispondere alle seguente domanda: conviene o no estendere la classe `Punto` ?"
   ]
  },
  {
   "cell_type": "markdown",
   "metadata": {},
   "source": [
    "## Punto3d senza ereditarietà"
   ]
  },
  {
   "cell_type": "code",
   "execution_count": 12,
   "metadata": {},
   "outputs": [],
   "source": [
    "# Versione senza ereditarietà\n",
    "class Punto3d():\n",
    "    def __init__(self, x, y, z):\n",
    "        print(f\"Sto creando un punto con coordinate {x}, {y} e {z}\")\n",
    "        self.move(x, y, z)\n",
    "        \n",
    "    def move(self, x1, y1, z1):\n",
    "        self.x = x1\n",
    "        self.y = y1\n",
    "        self.z = z1\n",
    "        \n",
    "    def reset(self):\n",
    "        self.x = 0\n",
    "        self.y = 0\n",
    "        self.z = 0\n",
    "    \n",
    "    def calcolo_distanza(self, altro_punto):\n",
    "        if isinstance(altro_punto, Punto3d):\n",
    "            distanza = math.sqrt( (self.x - altro_punto.x )**2 + (self.y - altro_punto.y)**2 + (self.z - altro_punto.z )**2)\n",
    "            return distanza\n",
    "        else:\n",
    "            raise Exception(\"Per favore non mischiamo patate con carote\")\n",
    "    \n",
    "    def __str__(self):\n",
    "        return \"(\"+str(self.x)+\",\"+str(self.y)+\",\"+str(self.z)+\")\"  "
   ]
  },
  {
   "cell_type": "code",
   "execution_count": 13,
   "metadata": {},
   "outputs": [
    {
     "name": "stdout",
     "output_type": "stream",
     "text": [
      "Sto creando un punto con coordinate 2, 4 e 5\n"
     ]
    }
   ],
   "source": [
    "p31 = Punto3d(2,4,5)"
   ]
  },
  {
   "cell_type": "code",
   "execution_count": 14,
   "metadata": {},
   "outputs": [
    {
     "name": "stdout",
     "output_type": "stream",
     "text": [
      "(2,4,5)\n"
     ]
    }
   ],
   "source": [
    "print(p31)"
   ]
  },
  {
   "cell_type": "code",
   "execution_count": 15,
   "metadata": {
    "collapsed": true
   },
   "outputs": [],
   "source": [
    "p31.reset()"
   ]
  },
  {
   "cell_type": "code",
   "execution_count": 16,
   "metadata": {},
   "outputs": [
    {
     "data": {
      "text/plain": [
       "0"
      ]
     },
     "execution_count": 16,
     "metadata": {},
     "output_type": "execute_result"
    }
   ],
   "source": [
    "p31.z"
   ]
  },
  {
   "cell_type": "code",
   "execution_count": 17,
   "metadata": {},
   "outputs": [
    {
     "name": "stdout",
     "output_type": "stream",
     "text": [
      "Sto creando un punto con coordinate -4, -3 e 9\n"
     ]
    }
   ],
   "source": [
    "p32 = Punto3d(-4,-3,9)"
   ]
  },
  {
   "cell_type": "code",
   "execution_count": 18,
   "metadata": {},
   "outputs": [
    {
     "data": {
      "text/plain": [
       "10.295630140987"
      ]
     },
     "execution_count": 18,
     "metadata": {},
     "output_type": "execute_result"
    }
   ],
   "source": [
    "p31.calcolo_distanza(p32)"
   ]
  },
  {
   "cell_type": "markdown",
   "metadata": {},
   "source": [
    "## Versione con ereditarietà"
   ]
  },
  {
   "cell_type": "code",
   "execution_count": 19,
   "metadata": {
    "collapsed": true
   },
   "outputs": [],
   "source": [
    "class Punto3dEreditante(Punto):\n",
    "    def __init__(self, x, y, z):\n",
    "        print(f\"Sto creando un punto con coordinate {x}, {y} e {z}\")\n",
    "        # Per come ho implementato la __init__ in Punto, non posso chiamare super()\n",
    "        #super().__init__(x, y)\n",
    "        self.x = x\n",
    "        self.y = y\n",
    "        self.z = z\n",
    "        \n",
    "    def move(self, x1, y1, z1):\n",
    "        print(f\"move della classe Punto3dEreditante\")\n",
    "        # Posso usare il metodo del padre\n",
    "        super().move(x1, y1)\n",
    "        self.z = z1\n",
    "        \n",
    "    def reset(self):\n",
    "        # Posso usare il metodo del padre\n",
    "        print(f\"reset della classe Punto3dEreditante\")\n",
    "        super().reset()\n",
    "        self.z = 0\n",
    "    \n",
    "    def calcolo_distanza(self, altro_punto):\n",
    "        # Non mi conviene usare il metodo del padre\n",
    "        if isinstance(altro_punto, Punto3dEreditante):\n",
    "            distanza = math.sqrt( (self.x - altro_punto.x )**2 + (self.y - altro_punto.y)**2 + (self.z - altro_punto.z )**2)\n",
    "            return distanza\n",
    "        else:\n",
    "            raise Exception(\"Per favore non mischiamo patate con carote\")\n",
    "    \n",
    "    def __str__(self):\n",
    "        # Non mi conviene usare il metodo del padre\n",
    "        return \"(\"+str(self.x)+\",\"+str(self.y)+\",\"+str(self.z)+\")\"  "
   ]
  },
  {
   "cell_type": "code",
   "execution_count": 20,
   "metadata": {},
   "outputs": [
    {
     "name": "stdout",
     "output_type": "stream",
     "text": [
      "Sto creando un punto con coordinate 2, 3 e 4\n"
     ]
    }
   ],
   "source": [
    "pe1 = Punto3dEreditante(2,3,4)"
   ]
  },
  {
   "cell_type": "code",
   "execution_count": 21,
   "metadata": {},
   "outputs": [
    {
     "name": "stdout",
     "output_type": "stream",
     "text": [
      "move della classe Punto3dEreditante\n",
      "move della classe Punto\n"
     ]
    }
   ],
   "source": [
    "pe1.move(6,-2,7)"
   ]
  },
  {
   "cell_type": "code",
   "execution_count": 22,
   "metadata": {},
   "outputs": [
    {
     "name": "stdout",
     "output_type": "stream",
     "text": [
      "reset della classe Punto3dEreditante\n",
      "reset della classe Punto\n"
     ]
    }
   ],
   "source": [
    "pe1.reset()"
   ]
  },
  {
   "cell_type": "code",
   "execution_count": 23,
   "metadata": {},
   "outputs": [
    {
     "data": {
      "text/plain": [
       "0"
      ]
     },
     "execution_count": 23,
     "metadata": {},
     "output_type": "execute_result"
    }
   ],
   "source": [
    "pe1.z"
   ]
  },
  {
   "cell_type": "code",
   "execution_count": 24,
   "metadata": {},
   "outputs": [
    {
     "name": "stdout",
     "output_type": "stream",
     "text": [
      "Sto creando un punto con coordinate -3, 13 e 4\n"
     ]
    }
   ],
   "source": [
    "pe2 = Punto3dEreditante(-3,13,4)"
   ]
  },
  {
   "cell_type": "code",
   "execution_count": 25,
   "metadata": {},
   "outputs": [
    {
     "data": {
      "text/plain": [
       "13.92838827718412"
      ]
     },
     "execution_count": 25,
     "metadata": {},
     "output_type": "execute_result"
    }
   ],
   "source": [
    "pe1.calcolo_distanza(pe2)"
   ]
  },
  {
   "cell_type": "markdown",
   "metadata": {},
   "source": [
    "# Risposta\n",
    "\n",
    "Usare l'ereditarietà per il punto a 3 dimensioni non porta a grandi vantaggi, almeno limitatamente ai metodi analizzati."
   ]
  }
 ],
 "metadata": {
  "kernelspec": {
   "display_name": "Python [conda env:django]",
   "language": "python",
   "name": "conda-env-django-py"
  },
  "language_info": {
   "codemirror_mode": {
    "name": "ipython",
    "version": 3
   },
   "file_extension": ".py",
   "mimetype": "text/x-python",
   "name": "python",
   "nbconvert_exporter": "python",
   "pygments_lexer": "ipython3",
   "version": "3.6.2"
  },
  "toc": {
   "base_numbering": 1,
   "nav_menu": {},
   "number_sections": true,
   "sideBar": true,
   "skip_h1_title": false,
   "title_cell": "Table of Contents",
   "title_sidebar": "Contents",
   "toc_cell": false,
   "toc_position": {},
   "toc_section_display": true,
   "toc_window_display": false
  }
 },
 "nbformat": 4,
 "nbformat_minor": 2
}
