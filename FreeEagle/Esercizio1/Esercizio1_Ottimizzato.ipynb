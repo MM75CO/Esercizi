{
 "cells": [
  {
   "cell_type": "markdown",
   "metadata": {},
   "source": [
    "# Esercizio 1 (Ottimizzato)\n",
    "## Autore: Pasquale Scordino\n",
    "## Data: 19 aprile 2020"
   ]
  },
  {
   "cell_type": "code",
   "execution_count": 2,
   "metadata": {},
   "outputs": [],
   "source": [
    "# Importazione librerie/moduli usati\n",
    "\n",
    "import os # modulo per interagire con il sistema operativo\n",
    "import re # modulo per usare le espressioni regolari\n",
    "from collections import defaultdict # metodo che permette di creare dizionari di liste multiple"
   ]
  },
  {
   "cell_type": "code",
   "execution_count": 3,
   "metadata": {},
   "outputs": [
    {
     "data": {
      "text/plain": [
       "['email_2.txt', 'email_3.txt', 'email_1.txt']"
      ]
     },
     "execution_count": 3,
     "metadata": {},
     "output_type": "execute_result"
    }
   ],
   "source": [
    "# List comprehension per caricare i nomi dei files.txt presenti nella cartella\n",
    "\n",
    "files = [f for f in os.listdir() if re.match(r'^\\w+\\.txt$', f, re.IGNORECASE)] \n",
    "files"
   ]
  },
  {
   "cell_type": "code",
   "execution_count": 4,
   "metadata": {},
   "outputs": [],
   "source": [
    "# Caricamento del contenuto dei files dentro una lista\n",
    "\n",
    "lista_mails = []\n",
    "for i in files:\n",
    "    f = open(i, 'r')\n",
    "    lista_mails.append(f.read())"
   ]
  },
  {
   "cell_type": "code",
   "execution_count": 5,
   "metadata": {},
   "outputs": [],
   "source": [
    "# Manipolazione delle stringhe per separare ogni parola\n",
    "\n",
    "lista_mails_split = []\n",
    "for j in lista_mails:\n",
    "    lista_mails_split.append(re.split(r'[\\s|\\/|\\?|\\|\\.|\\!|\\’|\\,]', j.lower()))"
   ]
  },
  {
   "cell_type": "code",
   "execution_count": 6,
   "metadata": {},
   "outputs": [],
   "source": [
    "# Eiminazione degli elementi della lista vuoti\n",
    "\n",
    "lista_mail_split_filtered = []\n",
    "for k in lista_mails_split:\n",
    "    lista_mail_split_filtered.append(list(filter(None, k)))"
   ]
  },
  {
   "cell_type": "code",
   "execution_count": 7,
   "metadata": {},
   "outputs": [],
   "source": [
    "# Dizionario dato con le parole e i relativi score\n",
    "\n",
    "wordict = {\n",
    "\"purtroppo\" : 2,\n",
    "\"anomalia\" : 1,\n",
    "\"errore\" : 1,\n",
    "\"lamentele\" : 2,\n",
    "\"rimborsi\" : 1,\n",
    "\"disservizi\" : 1,\n",
    "\"ritardi\" : 2,\n",
    "\"problema\" : 1,\n",
    "\"grande\": 4,\n",
    "\"ringraziare\": 4,\n",
    "\"eccellente\": 5,\n",
    "\"bravissimi\": 5\n",
    "}"
   ]
  },
  {
   "cell_type": "code",
   "execution_count": 8,
   "metadata": {},
   "outputs": [],
   "source": [
    "# Inizializzazione di liste multiple vuote\n",
    "\n",
    "mul_list_dict = defaultdict(list) \n",
    "for kk in range(len(lista_mail_split_filtered)):\n",
    "    mul_list_dict[f'lista_matched' + str(kk)]"
   ]
  },
  {
   "cell_type": "code",
   "execution_count": 9,
   "metadata": {},
   "outputs": [
    {
     "data": {
      "text/plain": [
       "defaultdict(list,\n",
       "            {'lista_matched0': [], 'lista_matched1': [], 'lista_matched2': []})"
      ]
     },
     "execution_count": 9,
     "metadata": {},
     "output_type": "execute_result"
    }
   ],
   "source": [
    "mul_list_dict"
   ]
  },
  {
   "cell_type": "code",
   "execution_count": 10,
   "metadata": {},
   "outputs": [],
   "source": [
    "# Soluzione di Maria - Che ha permesso di generalizzare una serie di cicli for\n",
    "# per ottenere un defaultdict con le medie degli score\n",
    "\n",
    "k = wordict.keys()\n",
    "\n",
    "for num, name in enumerate(lista_mail_split_filtered) :\n",
    "    media = 0.0\n",
    "    count = 0\n",
    "    for j in lista_mail_split_filtered[num]:\n",
    "        if j in k:\n",
    "            media += wordict[j]\n",
    "            count += 1\n",
    "            \n",
    "    if count != 0:\n",
    "        mul_list_dict[f'lista_matched' + str(num)]  = media/count"
   ]
  },
  {
   "cell_type": "code",
   "execution_count": 11,
   "metadata": {},
   "outputs": [
    {
     "data": {
      "text/plain": [
       "defaultdict(list,\n",
       "            {'lista_matched0': 1.25,\n",
       "             'lista_matched1': 4.5,\n",
       "             'lista_matched2': 1.6666666666666667})"
      ]
     },
     "execution_count": 11,
     "metadata": {},
     "output_type": "execute_result"
    }
   ],
   "source": [
    "mul_list_dict"
   ]
  },
  {
   "cell_type": "code",
   "execution_count": 12,
   "metadata": {},
   "outputs": [],
   "source": [
    "# Associazione dei nomi dei files con le medie degli score\n",
    "\n",
    "lista_value = list(mul_list_dict.values())\n",
    "result_dict = dict(zip(files, lista_value))"
   ]
  },
  {
   "cell_type": "code",
   "execution_count": 13,
   "metadata": {},
   "outputs": [
    {
     "data": {
      "text/plain": [
       "{'email_2.txt': 1.25, 'email_3.txt': 4.5, 'email_1.txt': 1.6666666666666667}"
      ]
     },
     "execution_count": 13,
     "metadata": {},
     "output_type": "execute_result"
    }
   ],
   "source": [
    "# Risultato\n",
    "\n",
    "result_dict"
   ]
  }
 ],
 "metadata": {
  "kernelspec": {
   "display_name": "Python 3.8.2 64-bit",
   "language": "python",
   "name": "python38264bit647452dae877433e8006afb85dd549bc"
  },
  "language_info": {
   "codemirror_mode": {
    "name": "ipython",
    "version": 3
   },
   "file_extension": ".py",
   "mimetype": "text/x-python",
   "name": "python",
   "nbconvert_exporter": "python",
   "pygments_lexer": "ipython3",
   "version": "3.8.2"
  }
 },
 "nbformat": 4,
 "nbformat_minor": 4
}
