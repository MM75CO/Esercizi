{
 "cells": [
  {
   "cell_type": "markdown",
   "metadata": {},
   "source": [
    "# Use Azure Map Service\n",
    "Get informations about every italian city"
   ]
  },
  {
   "cell_type": "code",
   "execution_count": 1,
   "metadata": {},
   "outputs": [],
   "source": [
    "import aiohttp\n",
    "import pandas as pd\n",
    "import datetime\n",
    "from tqdm import tqdm\n",
    "from tqdm.notebook import tqdm as tqdm_notebook\n",
    "from IPython.display import Image, display\n",
    "from utility import get_folder_path, define_path, read_dataset, save_dataset\n",
    "from yaml_utility import read_yaml_file"
   ]
  },
  {
   "cell_type": "markdown",
   "metadata": {},
   "source": [
    "## Analyze and get Latitude and Longitude for every Comune in Italy"
   ]
  },
  {
   "cell_type": "code",
   "execution_count": 2,
   "metadata": {},
   "outputs": [
    {
     "name": "stdout",
     "output_type": "stream",
     "text": [
      "PATH: /Users/jeydi/Dropbox/Progetti/LAVORO/DataLab/Rework/DatalabV1_Rework/Dataset, force creation: False\n",
      "\n",
      " Dataset location: /Users/jeydi/Dropbox/Progetti/LAVORO/DataLab/Rework/DatalabV1_Rework/Dataset/comuni_italiani.csv \n",
      "\n",
      "Found csv in the path\n",
      "Dataset loaded\n"
     ]
    }
   ],
   "source": [
    "#Get italian city data\n",
    "folder_path = get_folder_path('../../Dataset')\n",
    "file_path = define_path(folder_path, 'comuni_italiani.csv','')\n",
    "df = read_dataset(file_path,csv_sep=';',encoding='utf-8')"
   ]
  },
  {
   "cell_type": "code",
   "execution_count": 3,
   "metadata": {},
   "outputs": [
    {
     "data": {
      "text/html": [
       "<div>\n",
       "<style scoped>\n",
       "    .dataframe tbody tr th:only-of-type {\n",
       "        vertical-align: middle;\n",
       "    }\n",
       "\n",
       "    .dataframe tbody tr th {\n",
       "        vertical-align: top;\n",
       "    }\n",
       "\n",
       "    .dataframe thead th {\n",
       "        text-align: right;\n",
       "    }\n",
       "</style>\n",
       "<table border=\"1\" class=\"dataframe\">\n",
       "  <thead>\n",
       "    <tr style=\"text-align: right;\">\n",
       "      <th></th>\n",
       "      <th>Codice catastale</th>\n",
       "      <th>CodiceComune</th>\n",
       "      <th>Comune</th>\n",
       "      <th>Provincia</th>\n",
       "      <th>Regione</th>\n",
       "    </tr>\n",
       "  </thead>\n",
       "  <tbody>\n",
       "    <tr>\n",
       "      <th>0</th>\n",
       "      <td>A074</td>\n",
       "      <td>1001</td>\n",
       "      <td>Agliè</td>\n",
       "      <td>Torino</td>\n",
       "      <td>Piemonte</td>\n",
       "    </tr>\n",
       "    <tr>\n",
       "      <th>1</th>\n",
       "      <td>A109</td>\n",
       "      <td>1002</td>\n",
       "      <td>Airasca</td>\n",
       "      <td>Torino</td>\n",
       "      <td>Piemonte</td>\n",
       "    </tr>\n",
       "    <tr>\n",
       "      <th>2</th>\n",
       "      <td>A117</td>\n",
       "      <td>1003</td>\n",
       "      <td>Ala di Stura</td>\n",
       "      <td>Torino</td>\n",
       "      <td>Piemonte</td>\n",
       "    </tr>\n",
       "    <tr>\n",
       "      <th>3</th>\n",
       "      <td>A157</td>\n",
       "      <td>1004</td>\n",
       "      <td>Albiano d'Ivrea</td>\n",
       "      <td>Torino</td>\n",
       "      <td>Piemonte</td>\n",
       "    </tr>\n",
       "    <tr>\n",
       "      <th>4</th>\n",
       "      <td>A218</td>\n",
       "      <td>1006</td>\n",
       "      <td>Almese</td>\n",
       "      <td>Torino</td>\n",
       "      <td>Piemonte</td>\n",
       "    </tr>\n",
       "    <tr>\n",
       "      <th>5</th>\n",
       "      <td>A221</td>\n",
       "      <td>1007</td>\n",
       "      <td>Alpette</td>\n",
       "      <td>Torino</td>\n",
       "      <td>Piemonte</td>\n",
       "    </tr>\n",
       "    <tr>\n",
       "      <th>6</th>\n",
       "      <td>A222</td>\n",
       "      <td>1008</td>\n",
       "      <td>Alpignano</td>\n",
       "      <td>Torino</td>\n",
       "      <td>Piemonte</td>\n",
       "    </tr>\n",
       "    <tr>\n",
       "      <th>7</th>\n",
       "      <td>A275</td>\n",
       "      <td>1009</td>\n",
       "      <td>Andezeno</td>\n",
       "      <td>Torino</td>\n",
       "      <td>Piemonte</td>\n",
       "    </tr>\n",
       "    <tr>\n",
       "      <th>8</th>\n",
       "      <td>A282</td>\n",
       "      <td>1010</td>\n",
       "      <td>Andrate</td>\n",
       "      <td>Torino</td>\n",
       "      <td>Piemonte</td>\n",
       "    </tr>\n",
       "    <tr>\n",
       "      <th>9</th>\n",
       "      <td>A295</td>\n",
       "      <td>1011</td>\n",
       "      <td>Angrogna</td>\n",
       "      <td>Torino</td>\n",
       "      <td>Piemonte</td>\n",
       "    </tr>\n",
       "  </tbody>\n",
       "</table>\n",
       "</div>"
      ],
      "text/plain": [
       "  Codice catastale  CodiceComune           Comune Provincia   Regione\n",
       "0             A074          1001            Agliè    Torino  Piemonte\n",
       "1             A109          1002          Airasca    Torino  Piemonte\n",
       "2             A117          1003     Ala di Stura    Torino  Piemonte\n",
       "3             A157          1004  Albiano d'Ivrea    Torino  Piemonte\n",
       "4             A218          1006           Almese    Torino  Piemonte\n",
       "5             A221          1007          Alpette    Torino  Piemonte\n",
       "6             A222          1008        Alpignano    Torino  Piemonte\n",
       "7             A275          1009         Andezeno    Torino  Piemonte\n",
       "8             A282          1010          Andrate    Torino  Piemonte\n",
       "9             A295          1011         Angrogna    Torino  Piemonte"
      ]
     },
     "execution_count": 3,
     "metadata": {},
     "output_type": "execute_result"
    }
   ],
   "source": [
    "comuni_columns = ['Codice catastale','Codice comune','Nome Comune Internazionale','Provincia','Regione']\n",
    "df = df[comuni_columns]\n",
    "df = df.rename(columns={'Nome Comune Internazionale': 'Comune', 'Codice Catastale':'CodiceCatastale','Codice comune':'CodiceComune'})\n",
    "df.head(10)"
   ]
  },
  {
   "cell_type": "markdown",
   "metadata": {},
   "source": [
    "#### Import configurations file for Azure Map Service"
   ]
  },
  {
   "cell_type": "code",
   "execution_count": 21,
   "metadata": {},
   "outputs": [
    {
     "name": "stdout",
     "output_type": "stream",
     "text": [
      "PATH: /Users/jeydi/Dropbox/Progetti/LAVORO/DataLab/Rework/DatalabV1_Rework/Code/utility, force creation: False\n",
      "File path yaml checked to read/write from: /Users/jeydi/Dropbox/Progetti/LAVORO/DataLab/Rework/DatalabV1_Rework/Code/utility/azuremaps_config.yml\n",
      "File succesfully readed\n"
     ]
    }
   ],
   "source": [
    "config_base_path = get_folder_path('./')\n",
    "configurations = read_yaml_file(config_base_path,'azuremaps_config.yml')\n",
    "\n",
    "client_id = configurations['client_id']\n",
    "subscription_id = configurations['subscription_id']\n",
    "subscription_key = configurations['subscription_key']\n",
    "language = configurations['language']\n",
    "country = configurations['country']"
   ]
  },
  {
   "cell_type": "code",
   "execution_count": 5,
   "metadata": {},
   "outputs": [],
   "source": [
    "#Documentation: https://docs.microsoft.com/en-us/rest/api/maps/search/getsearchaddress\n",
    "service_uri = \"https://atlas.microsoft.com/search/address/json?subscription-key={}&api-version=1.0&query={}&countrySet={}&language={}\""
   ]
  },
  {
   "cell_type": "code",
   "execution_count": 10,
   "metadata": {},
   "outputs": [],
   "source": [
    "latitude = []\n",
    "longitude = []\n",
    "comune_list = []\n",
    "provincia_list = []\n",
    "regione_list = []"
   ]
  },
  {
   "cell_type": "code",
   "execution_count": 11,
   "metadata": {},
   "outputs": [
    {
     "name": "stderr",
     "output_type": "stream",
     "text": [
      "/Users/jeydi/opt/anaconda3/envs/develop/lib/python3.6/site-packages/ipykernel_launcher.py:7: TqdmDeprecationWarning: This function will be removed in tqdm==5.0.0\n",
      "Please use `tqdm.notebook.tqdm` instead of `tqdm.tqdm_notebook`\n",
      "  import sys\n"
     ]
    },
    {
     "data": {
      "application/vnd.jupyter.widget-view+json": {
       "model_id": "a72d6bf1c9644c039b02ab90a8799c3f",
       "version_major": 2,
       "version_minor": 0
      },
      "text/plain": [
       "HBox(children=(FloatProgress(value=0.0, max=7904.0), HTML(value='')))"
      ]
     },
     "metadata": {},
     "output_type": "display_data"
    },
    {
     "name": "stdout",
     "output_type": "stream",
     "text": [
      "Impossibile to get information for element 2784 about: Cortaccia sulla strada del vino/Kurtatsch an der Weinstraße, Bolzano/Bozen, Trentino-Alto Adige/Südtirol because: list index out of range\n",
      "Impossibile to get information for element 2785 about: Cortina sulla strada del vino/Kurtinig an der Weinstraße, Bolzano/Bozen, Trentino-Alto Adige/Südtirol because: list index out of range\n",
      "\n",
      "Download completed with 2 errors. Please check the errors list to see informations\n"
     ]
    }
   ],
   "source": [
    "session = aiohttp.ClientSession()\n",
    "errors = []\n",
    "\n",
    "for i, el in enumerate(tqdm_notebook(df['CodiceComune'].tolist())):\n",
    "    \n",
    "    comune = df.loc[i,'Comune']\n",
    "    provincia = df.loc[i,'Provincia']\n",
    "    regione = df.loc[i,'Regione']\n",
    "    \n",
    "    query = str(comune) + ', ' + str(provincia) + ', ' + str(regione) \n",
    "    request = service_uri.format(subscription_key,query,country,language)\n",
    "    \n",
    "    try:\n",
    "        response = await(await session.get(request)).json()\n",
    "    \n",
    "        #response['results'][0]['address']['countrySecondarySubdivision']\n",
    "        comune_list.append(comune)\n",
    "        provincia_list.append(provincia)\n",
    "        regione_list.append(regione)\n",
    "        latitude.append(response['results'][0]['position']['lat'])\n",
    "        longitude.append(response['results'][0]['position']['lon'])\n",
    "\n",
    "    except Exception as message:\n",
    "        print(f\"Impossibile to get information for element {i} about: {comune}, {provincia}, {regione} because: {message}\")\n",
    "        errors.append([i,el,comune,provincia,regione])\n",
    "        continue\n",
    "\n",
    "await session.close()\n",
    "print(f\"Download completed with {len(errors)} errors. Please check the errors list to see informations\")\n"
   ]
  },
  {
   "cell_type": "markdown",
   "metadata": {},
   "source": [
    "Append to original dataframe the data you have obtaines from the service"
   ]
  },
  {
   "cell_type": "code",
   "execution_count": 17,
   "metadata": {},
   "outputs": [
    {
     "name": "stdout",
     "output_type": "stream",
     "text": [
      "Removed errors for CodiceComune 21024 in position: Int64Index([2784], dtype='int64')\n",
      "Removed errors for CodiceComune 21025 in position: Int64Index([2785], dtype='int64')\n"
     ]
    }
   ],
   "source": [
    "#Remove errors from original dataframe if there are into the previous procedure\n",
    "df_no_errors = df.copy()\n",
    "\n",
    "if errors != []:\n",
    "    for i,e in enumerate(errors):\n",
    "        codice = e[1]\n",
    "        # Get names of indexes for which column Age has value 30\n",
    "        indexNames = df_no_errors[ df_no_errors['CodiceComune'] == codice ].index\n",
    " \n",
    "        # Delete these row indexes from dataFrame\n",
    "        df_no_errors.drop(indexNames , inplace=True)\n",
    "        print(f\"Removed errors for CodiceComune {codice} in position: {indexNames}\")"
   ]
  },
  {
   "cell_type": "code",
   "execution_count": 18,
   "metadata": {},
   "outputs": [
    {
     "data": {
      "text/plain": [
       "(7902, 7)"
      ]
     },
     "execution_count": 18,
     "metadata": {},
     "output_type": "execute_result"
    }
   ],
   "source": [
    "#Create columns into the result_dataframe\n",
    "df_no_errors['Latitude'] = latitude\n",
    "df_no_errors['Longitude'] = longitude\n",
    "df_no_errors.shape"
   ]
  },
  {
   "cell_type": "markdown",
   "metadata": {},
   "source": [
    "Save the result dataframe to disk"
   ]
  },
  {
   "cell_type": "code",
   "execution_count": 23,
   "metadata": {},
   "outputs": [
    {
     "name": "stdout",
     "output_type": "stream",
     "text": [
      "\n",
      " Dataset location: /Users/jeydi/Dropbox/Progetti/LAVORO/DataLab/Rework/DatalabV1_Rework/Dataset/comuni_italiani_edited.csv \n",
      "\n",
      "File saved succesfully to: /Users/jeydi/Dropbox/Progetti/LAVORO/DataLab/Rework/DatalabV1_Rework/Dataset/comuni_italiani_edited.csv\n"
     ]
    },
    {
     "data": {
      "text/plain": [
       "True"
      ]
     },
     "execution_count": 23,
     "metadata": {},
     "output_type": "execute_result"
    }
   ],
   "source": [
    "output_path = define_path(folder_path, 'comuni_italiani_edited.csv','')\n",
    "save_dataset(output_path, df_no_errors,csv_sep=\";\")"
   ]
  },
  {
   "cell_type": "markdown",
   "metadata": {},
   "source": [
    "## Obtain Latitude and Longitude for every MBE Store with usefull informations"
   ]
  },
  {
   "cell_type": "markdown",
   "metadata": {},
   "source": [
    "Import original mbe dataset"
   ]
  },
  {
   "cell_type": "code",
   "execution_count": 26,
   "metadata": {},
   "outputs": [
    {
     "name": "stdout",
     "output_type": "stream",
     "text": [
      "\n",
      " Dataset location: /Users/jeydi/Dropbox/Progetti/LAVORO/DataLab/Rework/DatalabV1_Rework/Dataset/1_etlStep3_finalTable_temp.csv \n",
      "\n",
      "Found csv in the path\n",
      "Dataset loaded\n",
      "Shape: (117847, 94)\n"
     ]
    },
    {
     "name": "stderr",
     "output_type": "stream",
     "text": [
      "/Users/jeydi/opt/anaconda3/envs/develop/lib/python3.6/site-packages/IPython/core/interactiveshell.py:3242: DtypeWarning: Columns (20) have mixed types. Specify dtype option on import or set low_memory=False.\n",
      "  if (await self.run_code(code, result,  async_=asy)):\n"
     ]
    },
    {
     "data": {
      "text/html": [
       "<div>\n",
       "<style scoped>\n",
       "    .dataframe tbody tr th:only-of-type {\n",
       "        vertical-align: middle;\n",
       "    }\n",
       "\n",
       "    .dataframe tbody tr th {\n",
       "        vertical-align: top;\n",
       "    }\n",
       "\n",
       "    .dataframe thead th {\n",
       "        text-align: right;\n",
       "    }\n",
       "</style>\n",
       "<table border=\"1\" class=\"dataframe\">\n",
       "  <thead>\n",
       "    <tr style=\"text-align: right;\">\n",
       "      <th></th>\n",
       "      <th>STOREBASE</th>\n",
       "      <th>ANNO</th>\n",
       "      <th>MESE</th>\n",
       "      <th>FRANCHISEENO</th>\n",
       "      <th>FRANCHISEENAME</th>\n",
       "      <th>PREVIOUSFRANCHISEE</th>\n",
       "      <th>CLASSEDFS</th>\n",
       "      <th>SEGMENTOGS</th>\n",
       "      <th>REGIONESTORE</th>\n",
       "      <th>ASSISTENZAGOLD</th>\n",
       "      <th>...</th>\n",
       "      <th>TOTALEXTRATOTALGROSSCOST</th>\n",
       "      <th>TOTALEXTRATOTALGROSSPRICE</th>\n",
       "      <th>MAXCOURIERSERVICE</th>\n",
       "      <th>COUNTMAXCOURIERSERVICE</th>\n",
       "      <th>MINCOURIERSERVICE</th>\n",
       "      <th>COUNTMINCOURIERSERVICE</th>\n",
       "      <th>MAXSHIPSERVICE</th>\n",
       "      <th>COUNTMAXSHIPSERVICE</th>\n",
       "      <th>MINSHIPSERVICE</th>\n",
       "      <th>COUNTMINSHIPSERVICE</th>\n",
       "    </tr>\n",
       "  </thead>\n",
       "  <tbody>\n",
       "    <tr>\n",
       "      <th>0</th>\n",
       "      <td>IT0734</td>\n",
       "      <td>2013</td>\n",
       "      <td>9</td>\n",
       "      <td>752171602</td>\n",
       "      <td>IT0734</td>\n",
       "      <td>NaN</td>\n",
       "      <td>B</td>\n",
       "      <td>0.0</td>\n",
       "      <td>Puglia</td>\n",
       "      <td>1.0</td>\n",
       "      <td>...</td>\n",
       "      <td>20.55</td>\n",
       "      <td>623.079987</td>\n",
       "      <td>Standard</td>\n",
       "      <td>12.0</td>\n",
       "      <td>Saver</td>\n",
       "      <td>2.0</td>\n",
       "      <td>MBE Standard</td>\n",
       "      <td>19.0</td>\n",
       "      <td>MBE Express</td>\n",
       "      <td>2.0</td>\n",
       "    </tr>\n",
       "    <tr>\n",
       "      <th>1</th>\n",
       "      <td>IT0734</td>\n",
       "      <td>2013</td>\n",
       "      <td>10</td>\n",
       "      <td>752171602</td>\n",
       "      <td>IT0734</td>\n",
       "      <td>NaN</td>\n",
       "      <td>B</td>\n",
       "      <td>0.0</td>\n",
       "      <td>Puglia</td>\n",
       "      <td>1.0</td>\n",
       "      <td>...</td>\n",
       "      <td>13.12</td>\n",
       "      <td>279.279999</td>\n",
       "      <td>ExtraLarge</td>\n",
       "      <td>9.0</td>\n",
       "      <td>Saver</td>\n",
       "      <td>2.0</td>\n",
       "      <td>MBE Standard</td>\n",
       "      <td>15.0</td>\n",
       "      <td>MBE Express</td>\n",
       "      <td>2.0</td>\n",
       "    </tr>\n",
       "    <tr>\n",
       "      <th>2</th>\n",
       "      <td>IT0734</td>\n",
       "      <td>2013</td>\n",
       "      <td>11</td>\n",
       "      <td>752171602</td>\n",
       "      <td>IT0734</td>\n",
       "      <td>NaN</td>\n",
       "      <td>B</td>\n",
       "      <td>0.0</td>\n",
       "      <td>Puglia</td>\n",
       "      <td>1.0</td>\n",
       "      <td>...</td>\n",
       "      <td>23.18</td>\n",
       "      <td>466.970013</td>\n",
       "      <td>Standard</td>\n",
       "      <td>8.0</td>\n",
       "      <td>Expedited</td>\n",
       "      <td>1.0</td>\n",
       "      <td>MBE Standard</td>\n",
       "      <td>15.0</td>\n",
       "      <td>MBE Standard</td>\n",
       "      <td>15.0</td>\n",
       "    </tr>\n",
       "    <tr>\n",
       "      <th>3</th>\n",
       "      <td>IT0734</td>\n",
       "      <td>2013</td>\n",
       "      <td>12</td>\n",
       "      <td>752171602</td>\n",
       "      <td>IT0734</td>\n",
       "      <td>NaN</td>\n",
       "      <td>B</td>\n",
       "      <td>0.0</td>\n",
       "      <td>Puglia</td>\n",
       "      <td>1.0</td>\n",
       "      <td>...</td>\n",
       "      <td>3.05</td>\n",
       "      <td>0.000000</td>\n",
       "      <td>Standard</td>\n",
       "      <td>9.0</td>\n",
       "      <td>Saver</td>\n",
       "      <td>2.0</td>\n",
       "      <td>MBE Standard</td>\n",
       "      <td>22.0</td>\n",
       "      <td>MBE Express</td>\n",
       "      <td>2.0</td>\n",
       "    </tr>\n",
       "    <tr>\n",
       "      <th>4</th>\n",
       "      <td>IT0734</td>\n",
       "      <td>2014</td>\n",
       "      <td>1</td>\n",
       "      <td>752171602</td>\n",
       "      <td>IT0734</td>\n",
       "      <td>NaN</td>\n",
       "      <td>B</td>\n",
       "      <td>0.0</td>\n",
       "      <td>Puglia</td>\n",
       "      <td>1.0</td>\n",
       "      <td>...</td>\n",
       "      <td>9.15</td>\n",
       "      <td>75.000000</td>\n",
       "      <td>ExtraLarge</td>\n",
       "      <td>26.0</td>\n",
       "      <td>Saver</td>\n",
       "      <td>1.0</td>\n",
       "      <td>MBE Express</td>\n",
       "      <td>33.0</td>\n",
       "      <td>MBE Standard</td>\n",
       "      <td>1.0</td>\n",
       "    </tr>\n",
       "    <tr>\n",
       "      <th>5</th>\n",
       "      <td>IT0734</td>\n",
       "      <td>2014</td>\n",
       "      <td>2</td>\n",
       "      <td>752171602</td>\n",
       "      <td>IT0734</td>\n",
       "      <td>NaN</td>\n",
       "      <td>B</td>\n",
       "      <td>0.0</td>\n",
       "      <td>Puglia</td>\n",
       "      <td>1.0</td>\n",
       "      <td>...</td>\n",
       "      <td>15.12</td>\n",
       "      <td>2.450000</td>\n",
       "      <td>ExtraLarge</td>\n",
       "      <td>68.0</td>\n",
       "      <td>Saver</td>\n",
       "      <td>1.0</td>\n",
       "      <td>MBE Express</td>\n",
       "      <td>75.0</td>\n",
       "      <td>MBE Standard</td>\n",
       "      <td>1.0</td>\n",
       "    </tr>\n",
       "    <tr>\n",
       "      <th>6</th>\n",
       "      <td>IT0734</td>\n",
       "      <td>2014</td>\n",
       "      <td>3</td>\n",
       "      <td>752171602</td>\n",
       "      <td>IT0734</td>\n",
       "      <td>NaN</td>\n",
       "      <td>B</td>\n",
       "      <td>0.0</td>\n",
       "      <td>Puglia</td>\n",
       "      <td>1.0</td>\n",
       "      <td>...</td>\n",
       "      <td>3.42</td>\n",
       "      <td>2.310000</td>\n",
       "      <td>ExtraLarge</td>\n",
       "      <td>20.0</td>\n",
       "      <td>Golden</td>\n",
       "      <td>2.0</td>\n",
       "      <td>MBE Standard</td>\n",
       "      <td>27.0</td>\n",
       "      <td>MBE Express P+</td>\n",
       "      <td>2.0</td>\n",
       "    </tr>\n",
       "    <tr>\n",
       "      <th>7</th>\n",
       "      <td>IT0734</td>\n",
       "      <td>2014</td>\n",
       "      <td>4</td>\n",
       "      <td>752171602</td>\n",
       "      <td>IT0734</td>\n",
       "      <td>NaN</td>\n",
       "      <td>B</td>\n",
       "      <td>0.0</td>\n",
       "      <td>Puglia</td>\n",
       "      <td>1.0</td>\n",
       "      <td>...</td>\n",
       "      <td>17.08</td>\n",
       "      <td>0.000000</td>\n",
       "      <td>Standard</td>\n",
       "      <td>4.0</td>\n",
       "      <td>Expedited</td>\n",
       "      <td>1.0</td>\n",
       "      <td>MBE Standard</td>\n",
       "      <td>7.0</td>\n",
       "      <td>MBE Express</td>\n",
       "      <td>2.0</td>\n",
       "    </tr>\n",
       "    <tr>\n",
       "      <th>8</th>\n",
       "      <td>IT0734</td>\n",
       "      <td>2014</td>\n",
       "      <td>5</td>\n",
       "      <td>752171602</td>\n",
       "      <td>IT0734</td>\n",
       "      <td>NaN</td>\n",
       "      <td>B</td>\n",
       "      <td>0.0</td>\n",
       "      <td>Puglia</td>\n",
       "      <td>1.0</td>\n",
       "      <td>...</td>\n",
       "      <td>8.54</td>\n",
       "      <td>0.000000</td>\n",
       "      <td>ExtraLarge</td>\n",
       "      <td>10.0</td>\n",
       "      <td>Golden</td>\n",
       "      <td>1.0</td>\n",
       "      <td>MBE Express P+</td>\n",
       "      <td>19.0</td>\n",
       "      <td>MBE Standard</td>\n",
       "      <td>1.0</td>\n",
       "    </tr>\n",
       "    <tr>\n",
       "      <th>9</th>\n",
       "      <td>IT0734</td>\n",
       "      <td>2014</td>\n",
       "      <td>6</td>\n",
       "      <td>752171602</td>\n",
       "      <td>IT0734</td>\n",
       "      <td>NaN</td>\n",
       "      <td>B</td>\n",
       "      <td>0.0</td>\n",
       "      <td>Puglia</td>\n",
       "      <td>1.0</td>\n",
       "      <td>...</td>\n",
       "      <td>0.00</td>\n",
       "      <td>0.000000</td>\n",
       "      <td>ExtraLarge</td>\n",
       "      <td>11.0</td>\n",
       "      <td>Saver</td>\n",
       "      <td>2.0</td>\n",
       "      <td>MBE Express</td>\n",
       "      <td>11.0</td>\n",
       "      <td>MBE Standard</td>\n",
       "      <td>2.0</td>\n",
       "    </tr>\n",
       "  </tbody>\n",
       "</table>\n",
       "<p>10 rows × 94 columns</p>\n",
       "</div>"
      ],
      "text/plain": [
       "  STOREBASE  ANNO  MESE  FRANCHISEENO FRANCHISEENAME  PREVIOUSFRANCHISEE  \\\n",
       "0    IT0734  2013     9     752171602         IT0734                 NaN   \n",
       "1    IT0734  2013    10     752171602         IT0734                 NaN   \n",
       "2    IT0734  2013    11     752171602         IT0734                 NaN   \n",
       "3    IT0734  2013    12     752171602         IT0734                 NaN   \n",
       "4    IT0734  2014     1     752171602         IT0734                 NaN   \n",
       "5    IT0734  2014     2     752171602         IT0734                 NaN   \n",
       "6    IT0734  2014     3     752171602         IT0734                 NaN   \n",
       "7    IT0734  2014     4     752171602         IT0734                 NaN   \n",
       "8    IT0734  2014     5     752171602         IT0734                 NaN   \n",
       "9    IT0734  2014     6     752171602         IT0734                 NaN   \n",
       "\n",
       "  CLASSEDFS  SEGMENTOGS REGIONESTORE  ASSISTENZAGOLD         ...          \\\n",
       "0         B         0.0       Puglia             1.0         ...           \n",
       "1         B         0.0       Puglia             1.0         ...           \n",
       "2         B         0.0       Puglia             1.0         ...           \n",
       "3         B         0.0       Puglia             1.0         ...           \n",
       "4         B         0.0       Puglia             1.0         ...           \n",
       "5         B         0.0       Puglia             1.0         ...           \n",
       "6         B         0.0       Puglia             1.0         ...           \n",
       "7         B         0.0       Puglia             1.0         ...           \n",
       "8         B         0.0       Puglia             1.0         ...           \n",
       "9         B         0.0       Puglia             1.0         ...           \n",
       "\n",
       "   TOTALEXTRATOTALGROSSCOST TOTALEXTRATOTALGROSSPRICE MAXCOURIERSERVICE  \\\n",
       "0                     20.55                623.079987          Standard   \n",
       "1                     13.12                279.279999        ExtraLarge   \n",
       "2                     23.18                466.970013          Standard   \n",
       "3                      3.05                  0.000000          Standard   \n",
       "4                      9.15                 75.000000        ExtraLarge   \n",
       "5                     15.12                  2.450000        ExtraLarge   \n",
       "6                      3.42                  2.310000        ExtraLarge   \n",
       "7                     17.08                  0.000000          Standard   \n",
       "8                      8.54                  0.000000        ExtraLarge   \n",
       "9                      0.00                  0.000000        ExtraLarge   \n",
       "\n",
       "   COUNTMAXCOURIERSERVICE  MINCOURIERSERVICE COUNTMINCOURIERSERVICE  \\\n",
       "0                    12.0              Saver                    2.0   \n",
       "1                     9.0              Saver                    2.0   \n",
       "2                     8.0          Expedited                    1.0   \n",
       "3                     9.0              Saver                    2.0   \n",
       "4                    26.0              Saver                    1.0   \n",
       "5                    68.0              Saver                    1.0   \n",
       "6                    20.0             Golden                    2.0   \n",
       "7                     4.0          Expedited                    1.0   \n",
       "8                    10.0             Golden                    1.0   \n",
       "9                    11.0              Saver                    2.0   \n",
       "\n",
       "   MAXSHIPSERVICE  COUNTMAXSHIPSERVICE  MINSHIPSERVICE COUNTMINSHIPSERVICE  \n",
       "0    MBE Standard                 19.0     MBE Express                 2.0  \n",
       "1    MBE Standard                 15.0     MBE Express                 2.0  \n",
       "2    MBE Standard                 15.0    MBE Standard                15.0  \n",
       "3    MBE Standard                 22.0     MBE Express                 2.0  \n",
       "4     MBE Express                 33.0    MBE Standard                 1.0  \n",
       "5     MBE Express                 75.0    MBE Standard                 1.0  \n",
       "6    MBE Standard                 27.0  MBE Express P+                 2.0  \n",
       "7    MBE Standard                  7.0     MBE Express                 2.0  \n",
       "8  MBE Express P+                 19.0    MBE Standard                 1.0  \n",
       "9     MBE Express                 11.0    MBE Standard                 2.0  \n",
       "\n",
       "[10 rows x 94 columns]"
      ]
     },
     "execution_count": 26,
     "metadata": {},
     "output_type": "execute_result"
    }
   ],
   "source": [
    "mbe_dataset_path = define_path(folder_path, '1_etlStep3_finalTable_temp.csv','')\n",
    "df_mbe = read_dataset(mbe_dataset_path, csv_sep=',', encoding='utf-8')\n",
    "print(f\"Shape: {df_mbe.shape}\")\n",
    "df_mbe.head(10)"
   ]
  },
  {
   "cell_type": "markdown",
   "metadata": {},
   "source": [
    "Warning: we don't have the informations about the roads"
   ]
  },
  {
   "cell_type": "markdown",
   "metadata": {},
   "source": [
    "Get only usefull informations for the search"
   ]
  },
  {
   "cell_type": "markdown",
   "metadata": {},
   "source": [
    "Do the search"
   ]
  },
  {
   "cell_type": "markdown",
   "metadata": {},
   "source": [
    "Save results"
   ]
  }
 ],
 "metadata": {
  "kernelspec": {
   "display_name": "Python 3",
   "language": "python",
   "name": "python3"
  },
  "language_info": {
   "codemirror_mode": {
    "name": "ipython",
    "version": 3
   },
   "file_extension": ".py",
   "mimetype": "text/x-python",
   "name": "python",
   "nbconvert_exporter": "python",
   "pygments_lexer": "ipython3",
   "version": "3.6.10"
  }
 },
 "nbformat": 4,
 "nbformat_minor": 4
}
